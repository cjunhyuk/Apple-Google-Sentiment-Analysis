{
 "cells": [
  {
   "cell_type": "code",
   "execution_count": 1,
   "id": "1620eec6",
   "metadata": {},
   "outputs": [],
   "source": [
    "import pandas as pd\n",
    "\n",
    "from sklearn.model_selection import train_test_split\n",
    "from sklearn.feature_extraction.text import CountVectorizer\n",
    "from sklearn.naive_bayes import MultinomialNB\n",
    "from sklearn.metrics import accuracy_score, confusion_matrix, ConfusionMatrixDisplay\n",
    "\n",
    "import nltk\n",
    "from nltk.probability import FreqDist\n",
    "from nltk.corpus import stopwords\n",
    "from nltk.tokenize import regexp_tokenize, word_tokenize, RegexpTokenizer\n",
    "from nltk.stem import SnowballStemmer\n",
    "\n",
    "import matplotlib.pyplot as plt\n",
    "import string\n",
    "import re"
   ]
  },
  {
   "cell_type": "code",
   "execution_count": 2,
   "id": "ae51d9fa",
   "metadata": {},
   "outputs": [
    {
     "data": {
      "text/html": [
       "<div>\n",
       "<style scoped>\n",
       "    .dataframe tbody tr th:only-of-type {\n",
       "        vertical-align: middle;\n",
       "    }\n",
       "\n",
       "    .dataframe tbody tr th {\n",
       "        vertical-align: top;\n",
       "    }\n",
       "\n",
       "    .dataframe thead th {\n",
       "        text-align: right;\n",
       "    }\n",
       "</style>\n",
       "<table border=\"1\" class=\"dataframe\">\n",
       "  <thead>\n",
       "    <tr style=\"text-align: right;\">\n",
       "      <th></th>\n",
       "      <th>tweet_text</th>\n",
       "      <th>emotion_in_tweet_is_directed_at</th>\n",
       "      <th>is_there_an_emotion_directed_at_a_brand_or_product</th>\n",
       "    </tr>\n",
       "  </thead>\n",
       "  <tbody>\n",
       "    <tr>\n",
       "      <th>0</th>\n",
       "      <td>.@wesley83 I have a 3G iPhone. After 3 hrs twe...</td>\n",
       "      <td>iPhone</td>\n",
       "      <td>Negative emotion</td>\n",
       "    </tr>\n",
       "    <tr>\n",
       "      <th>1</th>\n",
       "      <td>@jessedee Know about @fludapp ? Awesome iPad/i...</td>\n",
       "      <td>iPad or iPhone App</td>\n",
       "      <td>Positive emotion</td>\n",
       "    </tr>\n",
       "    <tr>\n",
       "      <th>2</th>\n",
       "      <td>@swonderlin Can not wait for #iPad 2 also. The...</td>\n",
       "      <td>iPad</td>\n",
       "      <td>Positive emotion</td>\n",
       "    </tr>\n",
       "    <tr>\n",
       "      <th>3</th>\n",
       "      <td>@sxsw I hope this year's festival isn't as cra...</td>\n",
       "      <td>iPad or iPhone App</td>\n",
       "      <td>Negative emotion</td>\n",
       "    </tr>\n",
       "    <tr>\n",
       "      <th>4</th>\n",
       "      <td>@sxtxstate great stuff on Fri #SXSW: Marissa M...</td>\n",
       "      <td>Google</td>\n",
       "      <td>Positive emotion</td>\n",
       "    </tr>\n",
       "    <tr>\n",
       "      <th>5</th>\n",
       "      <td>@teachntech00 New iPad Apps For #SpeechTherapy...</td>\n",
       "      <td>NaN</td>\n",
       "      <td>No emotion toward brand or product</td>\n",
       "    </tr>\n",
       "    <tr>\n",
       "      <th>6</th>\n",
       "      <td>#SXSW is just starting, #CTIA is around the co...</td>\n",
       "      <td>Android</td>\n",
       "      <td>Positive emotion</td>\n",
       "    </tr>\n",
       "    <tr>\n",
       "      <th>7</th>\n",
       "      <td>Beautifully smart and simple idea RT @madebyma...</td>\n",
       "      <td>iPad or iPhone App</td>\n",
       "      <td>Positive emotion</td>\n",
       "    </tr>\n",
       "    <tr>\n",
       "      <th>8</th>\n",
       "      <td>Counting down the days to #sxsw plus strong Ca...</td>\n",
       "      <td>Apple</td>\n",
       "      <td>Positive emotion</td>\n",
       "    </tr>\n",
       "    <tr>\n",
       "      <th>9</th>\n",
       "      <td>Excited to meet the @samsungmobileus at #sxsw ...</td>\n",
       "      <td>Android</td>\n",
       "      <td>Positive emotion</td>\n",
       "    </tr>\n",
       "  </tbody>\n",
       "</table>\n",
       "</div>"
      ],
      "text/plain": [
       "                                          tweet_text  \\\n",
       "0  .@wesley83 I have a 3G iPhone. After 3 hrs twe...   \n",
       "1  @jessedee Know about @fludapp ? Awesome iPad/i...   \n",
       "2  @swonderlin Can not wait for #iPad 2 also. The...   \n",
       "3  @sxsw I hope this year's festival isn't as cra...   \n",
       "4  @sxtxstate great stuff on Fri #SXSW: Marissa M...   \n",
       "5  @teachntech00 New iPad Apps For #SpeechTherapy...   \n",
       "6  #SXSW is just starting, #CTIA is around the co...   \n",
       "7  Beautifully smart and simple idea RT @madebyma...   \n",
       "8  Counting down the days to #sxsw plus strong Ca...   \n",
       "9  Excited to meet the @samsungmobileus at #sxsw ...   \n",
       "\n",
       "  emotion_in_tweet_is_directed_at  \\\n",
       "0                          iPhone   \n",
       "1              iPad or iPhone App   \n",
       "2                            iPad   \n",
       "3              iPad or iPhone App   \n",
       "4                          Google   \n",
       "5                             NaN   \n",
       "6                         Android   \n",
       "7              iPad or iPhone App   \n",
       "8                           Apple   \n",
       "9                         Android   \n",
       "\n",
       "  is_there_an_emotion_directed_at_a_brand_or_product  \n",
       "0                                   Negative emotion  \n",
       "1                                   Positive emotion  \n",
       "2                                   Positive emotion  \n",
       "3                                   Negative emotion  \n",
       "4                                   Positive emotion  \n",
       "5                 No emotion toward brand or product  \n",
       "6                                   Positive emotion  \n",
       "7                                   Positive emotion  \n",
       "8                                   Positive emotion  \n",
       "9                                   Positive emotion  "
      ]
     },
     "execution_count": 2,
     "metadata": {},
     "output_type": "execute_result"
    }
   ],
   "source": [
    "df = pd.read_csv('data/judge-1377884607_tweet_product_company.csv', encoding='latin-1')\n",
    "df.drop(index=6, inplace=True)\n",
    "df = df.reset_index(drop=True)\n",
    "df.head(10)"
   ]
  },
  {
   "cell_type": "code",
   "execution_count": 3,
   "id": "11b69145",
   "metadata": {},
   "outputs": [
    {
     "data": {
      "text/plain": [
       "No emotion toward brand or product    5388\n",
       "Positive emotion                      2978\n",
       "Negative emotion                       570\n",
       "I can't tell                           156\n",
       "Name: is_there_an_emotion_directed_at_a_brand_or_product, dtype: int64"
      ]
     },
     "execution_count": 3,
     "metadata": {},
     "output_type": "execute_result"
    }
   ],
   "source": [
    "df['is_there_an_emotion_directed_at_a_brand_or_product'].value_counts()"
   ]
  },
  {
   "cell_type": "code",
   "execution_count": 4,
   "id": "e5fd3520",
   "metadata": {},
   "outputs": [
    {
     "data": {
      "text/plain": [
       "iPad                               946\n",
       "Apple                              661\n",
       "iPad or iPhone App                 470\n",
       "Google                             430\n",
       "iPhone                             297\n",
       "Other Google product or service    293\n",
       "Android App                         81\n",
       "Android                             78\n",
       "Other Apple product or service      35\n",
       "Name: emotion_in_tweet_is_directed_at, dtype: int64"
      ]
     },
     "execution_count": 4,
     "metadata": {},
     "output_type": "execute_result"
    }
   ],
   "source": [
    "df['emotion_in_tweet_is_directed_at'].value_counts()"
   ]
  },
  {
   "cell_type": "code",
   "execution_count": 5,
   "id": "b5a7015b",
   "metadata": {},
   "outputs": [
    {
     "name": "stdout",
     "output_type": "stream",
     "text": [
      "<class 'pandas.core.frame.DataFrame'>\n",
      "RangeIndex: 9092 entries, 0 to 9091\n",
      "Data columns (total 3 columns):\n",
      " #   Column                                              Non-Null Count  Dtype \n",
      "---  ------                                              --------------  ----- \n",
      " 0   tweet_text                                          9092 non-null   object\n",
      " 1   emotion_in_tweet_is_directed_at                     3291 non-null   object\n",
      " 2   is_there_an_emotion_directed_at_a_brand_or_product  9092 non-null   object\n",
      "dtypes: object(3)\n",
      "memory usage: 213.2+ KB\n"
     ]
    }
   ],
   "source": [
    "df.info()"
   ]
  },
  {
   "cell_type": "code",
   "execution_count": 6,
   "id": "0d04d994",
   "metadata": {},
   "outputs": [
    {
     "data": {
      "text/plain": [
       "Apple     2409\n",
       "Google     882\n",
       "Name: emotion_in_tweet_is_directed_at, dtype: int64"
      ]
     },
     "execution_count": 6,
     "metadata": {},
     "output_type": "execute_result"
    }
   ],
   "source": [
    "apple_list = ['iPad', 'Apple', 'iPad or iPhone App', 'Other Apple product or service', 'iPhone']\n",
    "google_list = ['Google', 'Other Google product or service', 'Android App', 'Android']\n",
    "\n",
    "df['emotion_in_tweet_is_directed_at'] = ['Apple' if val in apple_list\n",
    "                                          else val for val in df['emotion_in_tweet_is_directed_at']]\n",
    "\n",
    "df['emotion_in_tweet_is_directed_at'] = ['Google' if val in google_list\n",
    "                                          else val for val in df['emotion_in_tweet_is_directed_at']]\n",
    "\n",
    "df['emotion_in_tweet_is_directed_at'].value_counts()"
   ]
  },
  {
   "cell_type": "code",
   "execution_count": 7,
   "id": "036c2000",
   "metadata": {},
   "outputs": [
    {
     "name": "stdout",
     "output_type": "stream",
     "text": [
      "<class 'pandas.core.frame.DataFrame'>\n",
      "RangeIndex: 9092 entries, 0 to 9091\n",
      "Data columns (total 3 columns):\n",
      " #   Column                                              Non-Null Count  Dtype \n",
      "---  ------                                              --------------  ----- \n",
      " 0   tweet_text                                          9092 non-null   object\n",
      " 1   emotion_in_tweet_is_directed_at                     3291 non-null   object\n",
      " 2   is_there_an_emotion_directed_at_a_brand_or_product  9092 non-null   object\n",
      "dtypes: object(3)\n",
      "memory usage: 213.2+ KB\n"
     ]
    }
   ],
   "source": [
    "df.info()"
   ]
  },
  {
   "cell_type": "code",
   "execution_count": 8,
   "id": "7a753baa",
   "metadata": {},
   "outputs": [
    {
     "data": {
      "text/plain": [
       "Apple     5346\n",
       "Google    2985\n",
       "Name: emotion_in_tweet_is_directed_at, dtype: int64"
      ]
     },
     "execution_count": 8,
     "metadata": {},
     "output_type": "execute_result"
    }
   ],
   "source": [
    "df['emotion_in_tweet_is_directed_at'] = [val if val == 'Apple' or val == 'Google'\n",
    "                                          else 'Google' if any(ele.casefold() in df['tweet_text'][ind].casefold() for ele in google_list)\n",
    "                                          else 'Apple' if any(ele.casefold() in df['tweet_text'][ind].casefold() for ele in apple_list)\n",
    "                                          else val\n",
    "                                          for ind, val in df['emotion_in_tweet_is_directed_at'].iteritems()]\n",
    "\n",
    "df['emotion_in_tweet_is_directed_at'].value_counts()"
   ]
  },
  {
   "cell_type": "code",
   "execution_count": 9,
   "id": "6b29d8d9",
   "metadata": {},
   "outputs": [
    {
     "name": "stdout",
     "output_type": "stream",
     "text": [
      "<class 'pandas.core.frame.DataFrame'>\n",
      "RangeIndex: 9092 entries, 0 to 9091\n",
      "Data columns (total 3 columns):\n",
      " #   Column                                              Non-Null Count  Dtype \n",
      "---  ------                                              --------------  ----- \n",
      " 0   tweet_text                                          9092 non-null   object\n",
      " 1   emotion_in_tweet_is_directed_at                     8331 non-null   object\n",
      " 2   is_there_an_emotion_directed_at_a_brand_or_product  9092 non-null   object\n",
      "dtypes: object(3)\n",
      "memory usage: 213.2+ KB\n"
     ]
    }
   ],
   "source": [
    "df.info()"
   ]
  },
  {
   "cell_type": "code",
   "execution_count": 10,
   "id": "385212fa",
   "metadata": {},
   "outputs": [
    {
     "name": "stdout",
     "output_type": "stream",
     "text": [
      "<class 'pandas.core.frame.DataFrame'>\n",
      "RangeIndex: 9092 entries, 0 to 9091\n",
      "Data columns (total 3 columns):\n",
      " #   Column                                              Non-Null Count  Dtype \n",
      "---  ------                                              --------------  ----- \n",
      " 0   tweet_text                                          9092 non-null   object\n",
      " 1   emotion_in_tweet_is_directed_at                     8331 non-null   object\n",
      " 2   is_there_an_emotion_directed_at_a_brand_or_product  9092 non-null   object\n",
      "dtypes: object(3)\n",
      "memory usage: 213.2+ KB\n"
     ]
    }
   ],
   "source": [
    "df2 = df.dropna(axis = 0)\n",
    "df2 = df2.rename(columns={\"emotion_in_tweet_is_directed_at\": \"product\",\\\n",
    "                   \"is_there_an_emotion_directed_at_a_brand_or_product\":\"emotion\"})\n",
    "df.info()"
   ]
  },
  {
   "cell_type": "code",
   "execution_count": 11,
   "id": "1f33137f",
   "metadata": {},
   "outputs": [
    {
     "data": {
      "text/html": [
       "<div>\n",
       "<style scoped>\n",
       "    .dataframe tbody tr th:only-of-type {\n",
       "        vertical-align: middle;\n",
       "    }\n",
       "\n",
       "    .dataframe tbody tr th {\n",
       "        vertical-align: top;\n",
       "    }\n",
       "\n",
       "    .dataframe thead th {\n",
       "        text-align: right;\n",
       "    }\n",
       "</style>\n",
       "<table border=\"1\" class=\"dataframe\">\n",
       "  <thead>\n",
       "    <tr style=\"text-align: right;\">\n",
       "      <th></th>\n",
       "      <th>tweet_text</th>\n",
       "      <th>product</th>\n",
       "      <th>emotion</th>\n",
       "    </tr>\n",
       "  </thead>\n",
       "  <tbody>\n",
       "    <tr>\n",
       "      <th>0</th>\n",
       "      <td>.@wesley83 I have a 3G iPhone. After 3 hrs twe...</td>\n",
       "      <td>Apple</td>\n",
       "      <td>1</td>\n",
       "    </tr>\n",
       "    <tr>\n",
       "      <th>1</th>\n",
       "      <td>@jessedee Know about @fludapp ? Awesome iPad/i...</td>\n",
       "      <td>Apple</td>\n",
       "      <td>0</td>\n",
       "    </tr>\n",
       "    <tr>\n",
       "      <th>2</th>\n",
       "      <td>@swonderlin Can not wait for #iPad 2 also. The...</td>\n",
       "      <td>Apple</td>\n",
       "      <td>0</td>\n",
       "    </tr>\n",
       "    <tr>\n",
       "      <th>3</th>\n",
       "      <td>@sxsw I hope this year's festival isn't as cra...</td>\n",
       "      <td>Apple</td>\n",
       "      <td>1</td>\n",
       "    </tr>\n",
       "    <tr>\n",
       "      <th>4</th>\n",
       "      <td>@sxtxstate great stuff on Fri #SXSW: Marissa M...</td>\n",
       "      <td>Google</td>\n",
       "      <td>0</td>\n",
       "    </tr>\n",
       "    <tr>\n",
       "      <th>...</th>\n",
       "      <td>...</td>\n",
       "      <td>...</td>\n",
       "      <td>...</td>\n",
       "    </tr>\n",
       "    <tr>\n",
       "      <th>9087</th>\n",
       "      <td>Ipad everywhere. #SXSW {link}</td>\n",
       "      <td>Apple</td>\n",
       "      <td>0</td>\n",
       "    </tr>\n",
       "    <tr>\n",
       "      <th>9088</th>\n",
       "      <td>Wave, buzz... RT @mention We interrupt your re...</td>\n",
       "      <td>Google</td>\n",
       "      <td>2</td>\n",
       "    </tr>\n",
       "    <tr>\n",
       "      <th>9089</th>\n",
       "      <td>Google's Zeiger, a physician never reported po...</td>\n",
       "      <td>Google</td>\n",
       "      <td>2</td>\n",
       "    </tr>\n",
       "    <tr>\n",
       "      <th>9090</th>\n",
       "      <td>Some Verizon iPhone customers complained their...</td>\n",
       "      <td>Apple</td>\n",
       "      <td>2</td>\n",
       "    </tr>\n",
       "    <tr>\n",
       "      <th>9091</th>\n",
       "      <td>Ï¡Ïàü_ÊÎÒ£Áââ_£â_ÛâRT @...</td>\n",
       "      <td>Google</td>\n",
       "      <td>2</td>\n",
       "    </tr>\n",
       "  </tbody>\n",
       "</table>\n",
       "<p>8331 rows × 3 columns</p>\n",
       "</div>"
      ],
      "text/plain": [
       "                                             tweet_text product  emotion\n",
       "0     .@wesley83 I have a 3G iPhone. After 3 hrs twe...   Apple        1\n",
       "1     @jessedee Know about @fludapp ? Awesome iPad/i...   Apple        0\n",
       "2     @swonderlin Can not wait for #iPad 2 also. The...   Apple        0\n",
       "3     @sxsw I hope this year's festival isn't as cra...   Apple        1\n",
       "4     @sxtxstate great stuff on Fri #SXSW: Marissa M...  Google        0\n",
       "...                                                 ...     ...      ...\n",
       "9087                      Ipad everywhere. #SXSW {link}   Apple        0\n",
       "9088  Wave, buzz... RT @mention We interrupt your re...  Google        2\n",
       "9089  Google's Zeiger, a physician never reported po...  Google        2\n",
       "9090  Some Verizon iPhone customers complained their...   Apple        2\n",
       "9091  Ï¡Ïàü_ÊÎÒ£Áââ_£â_ÛâRT @...  Google        2\n",
       "\n",
       "[8331 rows x 3 columns]"
      ]
     },
     "execution_count": 11,
     "metadata": {},
     "output_type": "execute_result"
    }
   ],
   "source": [
    "df2_label = pd.DataFrame(df2['emotion'].copy())\n",
    "emotion = df2_label.replace({\"emotion\": {\"Negative emotion\" : 1, \n",
    "                                \"Positive emotion\" : 0, \n",
    "                                \"No emotion toward brand or product\" : 2,\n",
    "                                \"I can't tell\" : 3}})\n",
    "df2['emotion'] = emotion\n",
    "df2"
   ]
  },
  {
   "cell_type": "code",
   "execution_count": 12,
   "id": "d113e3db",
   "metadata": {},
   "outputs": [],
   "source": [
    "sw = stopwords.words('english')\n",
    "pattern = r\"(?u)\\w{3,}\"\n",
    "tokenizer = RegexpTokenizer(pattern)\n",
    "stemmer = SnowballStemmer(language = 'english')\n",
    "def preprocess_text(text, tokenizer, sw, stemmer):\n",
    "    # Standardize case (lowercase the text)\n",
    "    # your code here\n",
    "    text = text.lower()\n",
    "    \n",
    "    token = tokenizer.tokenize(text)\n",
    "    \n",
    "    text = [word for word in token if word not in sw]\n",
    "\n",
    "    final = [stemmer.stem(text) for text in text]\n",
    "    \n",
    "    return final\n",
    "\n",
    "def get_wordnet_pos(treebank_tag):\n",
    "    '''\n",
    "    Translate nltk POS to wordnet tags\n",
    "    '''\n",
    "    if treebank_tag.startswith('J'):\n",
    "        return wordnet.ADJ\n",
    "    elif treebank_tag.startswith('V'):\n",
    "        return wordnet.VERB\n",
    "    elif treebank_tag.startswith('N'):\n",
    "        return wordnet.NOUN\n",
    "    elif treebank_tag.startswith('R'):\n",
    "        return wordnet.ADV\n",
    "    else:\n",
    "        return wordnet.NOUN\n",
    "    \n",
    "def doc_preparer(doc, stop_words=sw):\n",
    "    '''\n",
    "    \n",
    "    :param doc: a document from the satire corpus \n",
    "    :return: a document string with words which have been \n",
    "            lemmatized, \n",
    "            parsed for stopwords, \n",
    "            made lowercase,\n",
    "            and stripped of punctuation and numbers.\n",
    "    '''\n",
    "    \n",
    "    regex_token = RegexpTokenizer(r\"([a-zA-Z]+(?:’[a-z]+)?)\")\n",
    "    doc = regex_token.tokenize(doc)\n",
    "    doc = [word.lower() for word in doc]\n",
    "    doc = [word for word in doc if word not in sw]\n",
    "    # print(doc)\n",
    "    doc = pos_tag(doc)\n",
    "    doc = [(word[0], get_wordnet_pos(word[1])) for word in doc]\n",
    "    lemmatizer = WordNetLemmatizer() \n",
    "    doc = [lemmatizer.lemmatize(word[0], word[1]) for word in doc]\n",
    "\n",
    "    return ' '.join(doc)"
   ]
  },
  {
   "cell_type": "code",
   "execution_count": 13,
   "id": "1607d37c",
   "metadata": {
    "scrolled": true
   },
   "outputs": [
    {
     "data": {
      "text/plain": [
       "0       [wesley83, iphon, hrs, tweet, rise_austin, dea...\n",
       "1       [jessede, know, fludapp, awesom, ipad, iphon, ...\n",
       "2              [swonderlin, wait, ipad, also, sale, sxsw]\n",
       "3       [sxsw, hope, year, festiv, crashi, year, iphon...\n",
       "4       [sxtxstate, great, stuff, fri, sxsw, marissa, ...\n",
       "                              ...                        \n",
       "9087                        [ipad, everywher, sxsw, link]\n",
       "9088    [wave, buzz, mention, interrupt, regular, sche...\n",
       "9089    [googl, zeiger, physician, never, report, pote...\n",
       "9090    [verizon, iphon, custom, complain, time, fell,...\n",
       "9091    [ûârt, mention, googl, test, ûïcheck, offer, s...\n",
       "Name: tweet_text, Length: 9092, dtype: object"
      ]
     },
     "execution_count": 13,
     "metadata": {},
     "output_type": "execute_result"
    }
   ],
   "source": [
    "X = df2.drop(columns = 'emotion')\n",
    "y = df2['emotion']\n",
    "\n",
    "text_series = df[\"tweet_text\"].map(lambda x : preprocess_text(x, tokenizer, sw, stemmer))\n",
    "text_series"
   ]
  },
  {
   "cell_type": "code",
   "execution_count": 14,
   "id": "8f0e7b12",
   "metadata": {},
   "outputs": [],
   "source": [
    "X_t, X_val, y_t, y_val = train_test_split(X['tweet_text'], y, random_state=42)"
   ]
  },
  {
   "cell_type": "code",
   "execution_count": 15,
   "id": "a2161f18",
   "metadata": {},
   "outputs": [],
   "source": [
    "cv = CountVectorizer(max_features = 1000)\n",
    "X_t_vec = cv.fit_transform(X_t)\n",
    "#print(X_t_vec)\n",
    "X_t_vec = pd.DataFrame.sparse.from_spmatrix(X_t_vec)\n",
    "X_t_vec.columns = sorted(cv.vocabulary_)"
   ]
  },
  {
   "cell_type": "code",
   "execution_count": 16,
   "id": "28c8ff95",
   "metadata": {},
   "outputs": [
    {
     "data": {
      "text/plain": [
       "MultinomialNB()"
      ]
     },
     "execution_count": 16,
     "metadata": {},
     "output_type": "execute_result"
    }
   ],
   "source": [
    "mnb = MultinomialNB()\n",
    "mnb.fit(X_t_vec, y_t)"
   ]
  },
  {
   "cell_type": "code",
   "execution_count": 17,
   "id": "641e9b6e",
   "metadata": {},
   "outputs": [],
   "source": [
    "X_val_vec = cv.transform(X_val)\n",
    "X_val_vec  = pd.DataFrame.sparse.from_spmatrix(X_val_vec)\n",
    "X_val_vec.columns = sorted(cv.vocabulary_)\n",
    "X_val_vec.set_index(y_val.index, inplace=True)"
   ]
  },
  {
   "cell_type": "code",
   "execution_count": 18,
   "id": "bb0025ae",
   "metadata": {},
   "outputs": [
    {
     "name": "stdout",
     "output_type": "stream",
     "text": [
      "Training Accuracy: 0.6135381661065771\n"
     ]
    }
   ],
   "source": [
    "y_preds = mnb.predict(X_val_vec)\n",
    "print(\"Training Accuracy:\", accuracy_score(y_val, y_preds))"
   ]
  },
  {
   "cell_type": "code",
   "execution_count": 19,
   "id": "c7018646",
   "metadata": {},
   "outputs": [
    {
     "data": {
      "image/png": "[encoded data removed]",
      "text/plain": [
       "<Figure size 432x288 with 2 Axes>"
      ]
     },
     "metadata": {
      "needs_background": "light"
     },
     "output_type": "display_data"
    }
   ],
   "source": [
    "cm = confusion_matrix(y_val, y_preds)\n",
    "cmdisplay = ConfusionMatrixDisplay(cm)\n",
    "cmdisplay.plot();"
   ]
  },
  {
   "cell_type": "code",
   "execution_count": 20,
   "id": "4434ff4a",
   "metadata": {},
   "outputs": [
    {
     "data": {
      "text/plain": [
       "2    0.557796\n",
       "0    0.355900\n",
       "1    0.068299\n",
       "3    0.018005\n",
       "Name: emotion, dtype: float64"
      ]
     },
     "metadata": {},
     "output_type": "display_data"
    },
    {
     "name": "stdout",
     "output_type": "stream",
     "text": [
      "--------------------------\n"
     ]
    },
    {
     "data": {
      "text/plain": [
       "Apple     0.6417\n",
       "Google    0.3583\n",
       "Name: product, dtype: float64"
      ]
     },
     "metadata": {},
     "output_type": "display_data"
    }
   ],
   "source": [
    "display(df2[\"emotion\"].value_counts(normalize = True))\n",
    "print('--------------------------')\n",
    "display(df2[\"product\"].value_counts(normalize = True))"
   ]
  },
  {
   "cell_type": "markdown",
   "id": "3be435dc",
   "metadata": {},
   "source": [
    "Model to find what emotion these tokenized texts refer to. Do we need to undersample to fix class imbalance? \n",
    "Or does that not matter since we are only caring about Apple rather than Apple + Google ?\n"
   ]
  },
  {
   "cell_type": "code",
   "execution_count": 21,
   "id": "c33f48f1",
   "metadata": {},
   "outputs": [],
   "source": [
    "from imblearn.pipeline import Pipeline, make_pipeline\n",
    "from sklearn.feature_extraction.text import TfidfTransformer\n",
    "\n",
    "from imblearn.over_sampling import SMOTE \n",
    "from sklearn.ensemble import RandomForestClassifier\n",
    "from sklearn.model_selection import GridSearchCV"
   ]
  },
  {
   "cell_type": "code",
   "execution_count": 22,
   "id": "86e95736",
   "metadata": {},
   "outputs": [],
   "source": [
    "textclassifier =Pipeline([\n",
    "   ('vect', CountVectorizer()),\n",
    "   ('tfidf', TfidfTransformer()),\n",
    "   ('smote', SMOTE(random_state=42)),\n",
    "   ('mnb', MultinomialNB(alpha =0.1)),   \n",
    "])"
   ]
  },
  {
   "cell_type": "code",
   "execution_count": 23,
   "id": "ebee1c43",
   "metadata": {},
   "outputs": [
    {
     "name": "stdout",
     "output_type": "stream",
     "text": [
      "Training Accuracy: 0.5669707153144503\n"
     ]
    }
   ],
   "source": [
    "X_train, X_test, y_train, y_test = train_test_split(X['tweet_text'], y,\n",
    "                                                    test_size = 0.5, random_state=42)\n",
    "\n",
    "textclassifier.fit(X_train, y_train)\n",
    "y_pred = textclassifier.predict(X_test)\n",
    "print(\"Training Accuracy:\", accuracy_score(y_test, y_pred))"
   ]
  },
  {
   "cell_type": "code",
   "execution_count": 24,
   "id": "8e14e357",
   "metadata": {},
   "outputs": [],
   "source": [
    "# from keras.preprocessing import sequence\n",
    "# X_train, X_test, y_train, y_test = train_test_split(X['tweet_text'], y,\n",
    "#                                                     test_size = 0.5, random_state=42)\n",
    "# top_words = 5000\n",
    "# max_words = 20\n",
    "# X_train = sequence.pad_sequences(X_train, maxlen=max_words)\n",
    "# X_test = sequence.pad_sequences(X_test, maxlen=max_words)"
   ]
  },
  {
   "cell_type": "code",
   "execution_count": 25,
   "id": "6e960dde",
   "metadata": {},
   "outputs": [],
   "source": [
    "# oversample = SMOTE()\n",
    "# # transform the dataset\n",
    "# X_train, y_train = oversample.fit_resample(X_train, y_train)\n",
    "# X_test, y_test = oversample.fit_resample(X_test, y_test)"
   ]
  },
  {
   "cell_type": "code",
   "execution_count": 26,
   "id": "842b47ff",
   "metadata": {},
   "outputs": [],
   "source": [
    "# X_train_grid, X_test_grid, y_train_grid, y_test_grid = train_test_split(X['tweet_text'], y, random_state=42)"
   ]
  },
  {
   "cell_type": "markdown",
   "id": "d309a71c",
   "metadata": {},
   "source": [
    "X_t_vec = cv.fit_transform(X_train_grid)\n",
    "X_t_vec = pd.DataFrame.sparse.from_spmatrix(X_t_vec)\n",
    "X_t_vec.columns = sorted(cv.vocabulary_)\n",
    "\n",
    "param_grid = {\n",
    "    \"criterion\":['gini', 'entropy'], \n",
    "    \"max_depth\":[1, 10, 25, 50],\n",
    "    \"min_samples_split\":range(1, 10),\n",
    "    \"min_samples_leaf\":range(1, 10)\n",
    "\n",
    "}\n",
    "\n",
    "# Create a based model\n",
    "rf = RandomForestClassifier()\n",
    "# Instantiate the grid search model\n",
    "grid_search = GridSearchCV(estimator = rf, param_grid = param_grid, \n",
    "                          cv = 5, n_jobs = -1, verbose = 1)\n",
    "\n",
    "# Fit the grid search to the data\n",
    "grid_search.fit(X_t_vec,y_train_grid)"
   ]
  },
  {
   "cell_type": "code",
   "execution_count": 27,
   "id": "10563ce3",
   "metadata": {
    "scrolled": true
   },
   "outputs": [],
   "source": [
    "# grid_search.best_params_"
   ]
  },
  {
   "cell_type": "markdown",
   "id": "ff4ce8a6",
   "metadata": {},
   "source": [
    "Optimal Parameters (?) Found - Pre TFID and SMOTE:\n",
    "\n",
    "{'criterion': 'gini',\n",
    "\n",
    " 'max_depth': 50,\n",
    " \n",
    " 'min_samples_leaf': 1,\n",
    " \n",
    " 'min_samples_split': 9}"
   ]
  },
  {
   "cell_type": "markdown",
   "id": "a4888bf9",
   "metadata": {},
   "source": [
    "param_grid = {\n",
    "    \"criterion\": 'gini', \n",
    "    \"max_depth\": 50,\n",
    "    \"min_samples_split\": 1,\n",
    "    \"min_samples_leaf\": 6\n",
    "}"
   ]
  },
  {
   "cell_type": "code",
   "execution_count": 28,
   "id": "102916df",
   "metadata": {},
   "outputs": [],
   "source": [
    "first_textclassifier =Pipeline([\n",
    "   ('vect', CountVectorizer()),\n",
    "   ('tfidf', TfidfTransformer()),\n",
    "   ('smote', SMOTE(random_state=42)),\n",
    "   ('rf', RandomForestClassifier())\n",
    "])"
   ]
  },
  {
   "cell_type": "code",
   "execution_count": 29,
   "id": "2108f895",
   "metadata": {},
   "outputs": [
    {
     "name": "stdout",
     "output_type": "stream",
     "text": [
      "Training Accuracy: 0.6332213154104657\n"
     ]
    }
   ],
   "source": [
    "#Redoing with TFID and SMOTE\n",
    "X_train_grid, X_test_grid, y_train_grid, y_test_grid = train_test_split(X['tweet_text'], \n",
    "                                                                        y, random_state=42)\n",
    "\n",
    "first_textclassifier.fit(X_train_grid, y_train_grid)\n",
    "y_pred = first_textclassifier.predict(X_test_grid)\n",
    "print(\"Training Accuracy:\", accuracy_score(y_test_grid, y_pred))"
   ]
  },
  {
   "cell_type": "code",
   "execution_count": 30,
   "id": "a89f074e",
   "metadata": {},
   "outputs": [],
   "source": [
    "# #Commented out due to block taking 5.2 minutes to run. \n",
    "\n",
    "\n",
    "# X_train_grid, X_test_grid, y_train_grid, y_test_grid = train_test_split(X['tweet_text'], \n",
    "#                                                                         y, random_state=42)\n",
    "\n",
    "# early_textclassifier =Pipeline([\n",
    "#    ('vect', CountVectorizer()),\n",
    "#    ('tfidf', TfidfTransformer()),\n",
    "#    ('smote', SMOTE(random_state=42)),\n",
    "#    ('rf', RandomForestClassifier())])\n",
    "\n",
    "\n",
    "# param_grid = {\n",
    "#     \"rf__criterion\":['gini', 'entropy'], \n",
    "#     \"rf__max_depth\":[1, 10, 25, 50],\n",
    "#     \"rf__min_samples_split\":range(1, 10),\n",
    "#     \"rf__min_samples_leaf\":range(1, 10)\n",
    "\n",
    "# }            \n",
    "\n",
    "\n",
    "# grid = GridSearchCV(early_textclassifier, param_grid, cv = 5, n_jobs = -1, verbose = 1)\n",
    "# grid.fit(X_train_grid, y_train_grid)   \n"
   ]
  },
  {
   "cell_type": "code",
   "execution_count": 31,
   "id": "118e5bc9",
   "metadata": {},
   "outputs": [],
   "source": [
    "# print('Best score and parameter combination = ')\n",
    "\n",
    "# print(grid.best_score_)    \n",
    "# print(grid.best_params_)      "
   ]
  },
  {
   "cell_type": "markdown",
   "id": "8c5eed1a",
   "metadata": {},
   "source": [
    "Best score and parameter combination = \n",
    "0.631084835868695\n",
    "{'rf__criterion': 'gini', 'rf__max_depth': 50, 'rf__min_samples_leaf': 1, 'rf__min_samples_split': 4}"
   ]
  },
  {
   "cell_type": "code",
   "execution_count": 32,
   "id": "bfa7647a",
   "metadata": {},
   "outputs": [
    {
     "name": "stdout",
     "output_type": "stream",
     "text": [
      "Training Accuracy: 0.6120979356697072\n"
     ]
    }
   ],
   "source": [
    "X_train_grid, X_test_grid, y_train_grid, y_test_grid = train_test_split(X['tweet_text'], \n",
    "                                                                        y, random_state=42)\n",
    "                                                                        \n",
    "next_textclassifier = Pipeline([\n",
    "   ('vect', CountVectorizer()),\n",
    "   ('tfidf', TfidfTransformer()),\n",
    "   ('smote', SMOTE(sampling_strategy = 'minority', random_state=42)),\n",
    "   ('rf', RandomForestClassifier(max_depth = 50, min_samples_leaf = 1, min_samples_split = 4, random_state=42))])\n",
    "\n",
    "next_textclassifier.fit(X_train_grid, y_train_grid)\n",
    "y_pred = next_textclassifier.predict(X_test_grid)\n",
    "print(\"Training Accuracy:\", accuracy_score(y_test_grid, y_pred))"
   ]
  },
  {
   "cell_type": "code",
   "execution_count": null,
   "id": "2c1f7e91",
   "metadata": {},
   "outputs": [],
   "source": []
  },
  {
   "cell_type": "code",
   "execution_count": 56,
   "id": "f5150d93",
   "metadata": {},
   "outputs": [
    {
     "name": "stdout",
     "output_type": "stream",
     "text": [
      "Training Accuracy: 0.6212193951032166\n"
     ]
    },
    {
     "data": {
      "image/png": "[encoded data removed]",
      "text/plain": [
       "<Figure size 432x288 with 2 Axes>"
      ]
     },
     "metadata": {
      "needs_background": "light"
     },
     "output_type": "display_data"
    }
   ],
   "source": [
    "from imblearn.over_sampling import SMOTE\n",
    "from imblearn.pipeline import Pipeline as imbpipeline\n",
    "\n",
    "mnb_cv = imbpipeline(steps=[\n",
    "    ('preprocess', CountVectorizer()),\n",
    "    ('SMOTE', SMOTE(sampling_strategy = 'minority', random_state = 42)),\n",
    "    ('mnb', MultinomialNB())\n",
    "])\n",
    "\n",
    "mnb_cv.fit(X_t, y_t)\n",
    "preds = mnb_cv.predict(X_val)\n",
    "print(\"Training Accuracy:\", mnb_cv.score(X_val, y_val))\n",
    "#mnb.fit(X_train, y_train)\n",
    "#preds = mnb_cv.predict(X_train)\n",
    "cm2 = confusion_matrix(y_val, preds)\n",
    "cm2display = ConfusionMatrixDisplay(cm2)\n",
    "cm2display.plot();"
   ]
  },
  {
   "cell_type": "markdown",
   "id": "6d748939",
   "metadata": {},
   "source": [
    "Modifying NB model code with no-modified Random Forest Classifier"
   ]
  },
  {
   "cell_type": "code",
   "execution_count": 57,
   "id": "16a9ed70",
   "metadata": {},
   "outputs": [
    {
     "name": "stdout",
     "output_type": "stream",
     "text": [
      "Training Accuracy: 0.6096975516082573\n"
     ]
    },
    {
     "data": {
      "image/png": "[encoded data removed]",
      "text/plain": [
       "<Figure size 432x288 with 2 Axes>"
      ]
     },
     "metadata": {
      "needs_background": "light"
     },
     "output_type": "display_data"
    }
   ],
   "source": [
    "\n",
    "\n",
    "rf_basic_cv = imbpipeline(steps=[\n",
    "    ('preprocess', CountVectorizer()),\n",
    "    ('SMOTE', SMOTE(sampling_strategy = 'minority', random_state = 42)),\n",
    "    ('rf', RandomForestClassifier(random_state=42))\n",
    "\n",
    "])\n",
    "\n",
    "rf_basic_cv.fit(X_t, y_t)\n",
    "preds = rf_basic_cv.predict(X_val)\n",
    "print(\"Training Accuracy:\", rf_basic_cv.score(X_val, y_val))\n",
    "\n",
    "cm_rf_basic = confusion_matrix(y_val, preds)\n",
    "cm_rf_display = ConfusionMatrixDisplay(cm_rf_basic)\n",
    "cm_rf_display.plot();"
   ]
  },
  {
   "cell_type": "markdown",
   "id": "779e3f1b",
   "metadata": {},
   "source": [
    "Let's try again with optimized parameters from a new gridsearch on the current pipeline."
   ]
  },
  {
   "cell_type": "code",
   "execution_count": 58,
   "id": "0a89b696",
   "metadata": {},
   "outputs": [],
   "source": [
    "# #Code block has been commented out as it takes 10+ minutes to run.\n",
    "\n",
    "\n",
    "# X_train_grid, X_test_grid, y_train_grid, y_test_grid = train_test_split(X['tweet_text'], \n",
    "#                                                                         y, random_state=42)\n",
    "\n",
    "# rf_basic_cv = imbpipeline(steps=[\n",
    "#     ('preprocess', CountVectorizer()),\n",
    "#     ('SMOTE', SMOTE(sampling_strategy = 'minority', random_state = 42)),\n",
    "#     ('rf', RandomForestClassifier(random_state=42))\n",
    "\n",
    "# ])\n",
    "\n",
    "\n",
    "# param_grid = {\n",
    "#     \"rf__n_estimators\":[30, 100, 150, 200],\n",
    "#     \"rf__criterion\":['gini'], \n",
    "#     \"rf__max_depth\":[1, 25, 50],\n",
    "#     \"rf__min_samples_split\":range(1, 10),\n",
    "#     \"rf__min_samples_leaf\":range(1, 10)\n",
    "\n",
    "# }            \n",
    "\n",
    "\n",
    "# grid = GridSearchCV(rf_basic_cv, param_grid, cv = 5, n_jobs = -1, verbose = 1)\n",
    "# grid.fit(X_train_grid, y_train_grid)   \n"
   ]
  },
  {
   "cell_type": "code",
   "execution_count": 59,
   "id": "393d1bdd",
   "metadata": {},
   "outputs": [
    {
     "name": "stdout",
     "output_type": "stream",
     "text": [
      "Best score and parameter combination = \n",
      "0.5918683106485189\n",
      "{'rf__criterion': 'gini', 'rf__max_depth': 50, 'rf__min_samples_leaf': 2, 'rf__min_samples_split': 2, 'rf__n_estimators': 200}\n"
     ]
    }
   ],
   "source": [
    "print('Best score and parameter combination = ')\n",
    "\n",
    "print(grid.best_score_)    \n",
    "print(grid.best_params_)      "
   ]
  },
  {
   "cell_type": "markdown",
   "id": "4c9ed74c",
   "metadata": {},
   "source": [
    "\n",
    "\n",
    "For SMOTE(sampling_strategy = 'minority', random_state = 42))::\n",
    "Best score and parameter combination = \n",
    "0.5760245956765412\n",
    "{'rf__criterion': 'gini', 'rf__max_depth': 50, 'rf__min_samples_leaf': 1, 'rf__min_samples_split': 7, 'rf__n_estimators': 200}"
   ]
  },
  {
   "cell_type": "code",
   "execution_count": 60,
   "id": "ce857e3d",
   "metadata": {},
   "outputs": [
    {
     "name": "stdout",
     "output_type": "stream",
     "text": [
      "Training Accuracy: 0.585213634181469\n"
     ]
    },
    {
     "data": {
      "image/png": "[encoded data removed]",
      "text/plain": [
       "<Figure size 432x288 with 2 Axes>"
      ]
     },
     "metadata": {
      "needs_background": "light"
     },
     "output_type": "display_data"
    }
   ],
   "source": [
    "rf_optimal_cv = imbpipeline(steps=[\n",
    "    ('preprocess', CountVectorizer()),\n",
    "    ('SMOTE', SMOTE(sampling_strategy = 'minority', random_state = 42)),\n",
    "    ('rf', RandomForestClassifier(n_estimators = 200, criterion = 'gini', max_depth = 50,\\\n",
    "                                  min_samples_leaf = 1, min_samples_split = 7, random_state=42))\n",
    "\n",
    "])\n",
    "\n",
    "\n",
    "rf_optimal_cv.fit(X_train_grid, y_train_grid)\n",
    "preds = rf_optimal_cv.predict(X_test_grid)\n",
    "print(\"Training Accuracy:\", rf_optimal_cv.score(X_test_grid, y_test_grid))\n",
    "\n",
    "cm_rf_optimal = confusion_matrix(y_test_grid, preds)\n",
    "cm_rf__opt_display = ConfusionMatrixDisplay(cm_rf_optimal)\n",
    "cm_rf__opt_display.plot();"
   ]
  },
  {
   "cell_type": "markdown",
   "id": "6c8acfbf",
   "metadata": {},
   "source": [
    "Redoing with default smote sampling strategy"
   ]
  },
  {
   "cell_type": "code",
   "execution_count": 61,
   "id": "4eea0afb",
   "metadata": {},
   "outputs": [],
   "source": [
    "# #Code block has been commented out as it takes 10 minutes to run.\n",
    "\n",
    "\n",
    "# X_train_grid, X_test_grid, y_train_grid, y_test_grid = train_test_split(X['tweet_text'], \n",
    "#                                                                         y, random_state=42)\n",
    "\n",
    "# rf_basic_cv = imbpipeline(steps=[\n",
    "#     ('preprocess', CountVectorizer()),\n",
    "#     ('SMOTE', SMOTE(random_state = 42)),\n",
    "#     ('rf', RandomForestClassifier(random_state=42))\n",
    "\n",
    "# ])\n",
    "\n",
    "\n",
    "# param_grid = {\n",
    "#     \"rf__n_estimators\":[30, 100, 150, 200],\n",
    "#     \"rf__criterion\":['gini'], \n",
    "#     \"rf__max_depth\":[1, 25, 50],\n",
    "#     \"rf__min_samples_split\":range(1, 10),\n",
    "#     \"rf__min_samples_leaf\":range(1, 10)\n",
    "\n",
    "# }            \n",
    "\n",
    "\n",
    "# grid = GridSearchCV(rf_basic_cv, param_grid, cv = 5, n_jobs = -1, verbose = 1)\n",
    "# grid.fit(X_train_grid, y_train_grid)  "
   ]
  },
  {
   "cell_type": "code",
   "execution_count": 63,
   "id": "6e014ace",
   "metadata": {},
   "outputs": [
    {
     "name": "stdout",
     "output_type": "stream",
     "text": [
      "Training Accuracy: 0.6072971675468075\n"
     ]
    },
    {
     "data": {
      "image/png": "[encoded data removed]",
      "text/plain": [
       "<Figure size 432x288 with 2 Axes>"
      ]
     },
     "metadata": {
      "needs_background": "light"
     },
     "output_type": "display_data"
    }
   ],
   "source": [
    "rf_optimal_cv = imbpipeline(steps=[\n",
    "    ('preprocess', CountVectorizer()),\n",
    "    ('smote', SMOTE(random_state=42)),\n",
    "    ('rf', RandomForestClassifier(criterion = 'gini', n_estimators = 200,  max_depth = 50, min_samples_leaf = 2,\\\n",
    "                                  min_samples_split = 2, random_state=42))\n",
    "\n",
    "])\n",
    "\n",
    "\n",
    "rf_optimal_cv.fit(X_train_grid, y_train_grid)\n",
    "preds = rf_optimal_cv.predict(X_test_grid)\n",
    "print(\"Training Accuracy:\", rf_optimal_cv.score(X_test_grid, y_test_grid))\n",
    "\n",
    "cm_rf_optimal = confusion_matrix(y_test_grid, preds)\n",
    "cm_rf__opt_display = ConfusionMatrixDisplay(cm_rf_optimal)\n",
    "cm_rf__opt_display.plot();"
   ]
  },
  {
   "cell_type": "code",
   "execution_count": null,
   "id": "09c63631",
   "metadata": {},
   "outputs": [],
   "source": []
  },
  {
   "cell_type": "code",
   "execution_count": null,
   "id": "58a92b4a",
   "metadata": {},
   "outputs": [],
   "source": []
  },
  {
   "cell_type": "code",
   "execution_count": null,
   "id": "57d4ea04",
   "metadata": {},
   "outputs": [],
   "source": []
  }
 ],
 "metadata": {
  "kernelspec": {
   "display_name": "Python 3",
   "language": "python",
   "name": "python3"
  },
  "language_info": {
   "codemirror_mode": {
    "name": "ipython",
    "version": 3
   },
   "file_extension": ".py",
   "mimetype": "text/x-python",
   "name": "python",
   "nbconvert_exporter": "python",
   "pygments_lexer": "ipython3",
   "version": "3.8.5"
  }
 },
 "nbformat": 4,
 "nbformat_minor": 5
}
