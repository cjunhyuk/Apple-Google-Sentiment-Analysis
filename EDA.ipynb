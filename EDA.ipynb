{
 "cells": [
  {
   "cell_type": "markdown",
   "metadata": {},
   "source": [
    "---\n",
    "# Twitter Sentiment Analysis of Apple and Google Products for AT&T\n",
    "---\n",
    "\n",
    "Flatiron School Phase 4 Project\n",
    "\n",
    "Analysis by Jun (Andrew) Choi, Peter Vuong, & Nicholas Wertz\n"
   ]
  },
  {
   "cell_type": "markdown",
   "metadata": {},
   "source": [
    "<img src=\"img/AT&T_logo_2016.svg.png\" alt=\"AT&T Logo\" width=\"600\"/>"
   ]
  },
  {
   "cell_type": "markdown",
   "metadata": {},
   "source": [
    "---\n",
    "# 1. Business Understanding\n",
    "---\n",
    "In the ever expanding smartphone market, it is essential to keep up with customer demand. AT&T is deciding on which product brands to offer customers in their physical and online shops and have hired our data science team to help. We have been tasked with investigating the sentiment that customers express online towards differnt product lines to help make a decison on what products should be stocked immediately. We then will use this data to create a model that can predict customers' thoughts on a product so that the client can remain up to date with the product demands of their clientele."
   ]
  },
  {
   "cell_type": "markdown",
   "metadata": {},
   "source": [
    "---\n",
    "# 2. Data Understanding\n",
    "---\n",
    "The data set we primarily utilized for our modeling was initially gathered by [data.world from Twitter](https://data.world/crowdflower/brands-and-product-emotions). These tweets were gathered from attendees of Austin's South by Southwest Festival in 2013.\n",
    "\n",
    "## Importing the Packages/Libraries and Datasets\n"
   ]
  },
  {
   "cell_type": "code",
   "execution_count": 1,
   "metadata": {},
   "outputs": [],
   "source": [
    "import pandas as pd\n",
    "import numpy as np\n",
    "import re\n",
    "import string\n",
    "\n",
    "from matplotlib import pyplot as plt\n",
    "\n",
    "from sklearn.naive_bayes import MultinomialNB\n",
    "from sklearn.ensemble import RandomForestClassifier, VotingClassifier\n",
    "from sklearn.model_selection import train_test_split, cross_val_score, GridSearchCV\n",
    "from sklearn.feature_extraction.text import CountVectorizer, TfidfVectorizer\n",
    "from sklearn.metrics import accuracy_score, precision_score, recall_score,\\\n",
    "confusion_matrix, plot_confusion_matrix, ConfusionMatrixDisplay\n",
    "\n",
    "import nltk\n",
    "from nltk.probability import FreqDist\n",
    "from nltk.corpus import stopwords, wordnet\n",
    "from nltk.tokenize import regexp_tokenize, word_tokenize, RegexpTokenizer\n",
    "from nltk import pos_tag\n",
    "from nltk.stem import WordNetLemmatizer\n",
    "from nltk.stem import SnowballStemmer\n",
    "\n",
    "from imblearn.pipeline import Pipeline as imbpipeline\n",
    "from imblearn.over_sampling import SMOTE"
   ]
  },
  {
   "cell_type": "markdown",
   "metadata": {},
   "source": [
    "Data.world was able to label what products these tweets referred to and labeled whether the emotions expressed were positive, negative, or neutral.\n"
   ]
  },
  {
   "cell_type": "code",
   "execution_count": 2,
   "metadata": {},
   "outputs": [
    {
     "data": {
      "text/html": [
       "<div>\n",
       "<style scoped>\n",
       "    .dataframe tbody tr th:only-of-type {\n",
       "        vertical-align: middle;\n",
       "    }\n",
       "\n",
       "    .dataframe tbody tr th {\n",
       "        vertical-align: top;\n",
       "    }\n",
       "\n",
       "    .dataframe thead th {\n",
       "        text-align: right;\n",
       "    }\n",
       "</style>\n",
       "<table border=\"1\" class=\"dataframe\">\n",
       "  <thead>\n",
       "    <tr style=\"text-align: right;\">\n",
       "      <th></th>\n",
       "      <th>tweet_text</th>\n",
       "      <th>emotion_in_tweet_is_directed_at</th>\n",
       "      <th>is_there_an_emotion_directed_at_a_brand_or_product</th>\n",
       "    </tr>\n",
       "  </thead>\n",
       "  <tbody>\n",
       "    <tr>\n",
       "      <th>0</th>\n",
       "      <td>.@wesley83 I have a 3G iPhone. After 3 hrs twe...</td>\n",
       "      <td>iPhone</td>\n",
       "      <td>Negative emotion</td>\n",
       "    </tr>\n",
       "    <tr>\n",
       "      <th>1</th>\n",
       "      <td>@jessedee Know about @fludapp ? Awesome iPad/i...</td>\n",
       "      <td>iPad or iPhone App</td>\n",
       "      <td>Positive emotion</td>\n",
       "    </tr>\n",
       "    <tr>\n",
       "      <th>2</th>\n",
       "      <td>@swonderlin Can not wait for #iPad 2 also. The...</td>\n",
       "      <td>iPad</td>\n",
       "      <td>Positive emotion</td>\n",
       "    </tr>\n",
       "    <tr>\n",
       "      <th>3</th>\n",
       "      <td>@sxsw I hope this year's festival isn't as cra...</td>\n",
       "      <td>iPad or iPhone App</td>\n",
       "      <td>Negative emotion</td>\n",
       "    </tr>\n",
       "    <tr>\n",
       "      <th>4</th>\n",
       "      <td>@sxtxstate great stuff on Fri #SXSW: Marissa M...</td>\n",
       "      <td>Google</td>\n",
       "      <td>Positive emotion</td>\n",
       "    </tr>\n",
       "    <tr>\n",
       "      <th>5</th>\n",
       "      <td>@teachntech00 New iPad Apps For #SpeechTherapy...</td>\n",
       "      <td>NaN</td>\n",
       "      <td>No emotion toward brand or product</td>\n",
       "    </tr>\n",
       "    <tr>\n",
       "      <th>6</th>\n",
       "      <td>#SXSW is just starting, #CTIA is around the co...</td>\n",
       "      <td>Android</td>\n",
       "      <td>Positive emotion</td>\n",
       "    </tr>\n",
       "    <tr>\n",
       "      <th>7</th>\n",
       "      <td>Beautifully smart and simple idea RT @madebyma...</td>\n",
       "      <td>iPad or iPhone App</td>\n",
       "      <td>Positive emotion</td>\n",
       "    </tr>\n",
       "    <tr>\n",
       "      <th>8</th>\n",
       "      <td>Counting down the days to #sxsw plus strong Ca...</td>\n",
       "      <td>Apple</td>\n",
       "      <td>Positive emotion</td>\n",
       "    </tr>\n",
       "    <tr>\n",
       "      <th>9</th>\n",
       "      <td>Excited to meet the @samsungmobileus at #sxsw ...</td>\n",
       "      <td>Android</td>\n",
       "      <td>Positive emotion</td>\n",
       "    </tr>\n",
       "  </tbody>\n",
       "</table>\n",
       "</div>"
      ],
      "text/plain": [
       "                                          tweet_text  \\\n",
       "0  .@wesley83 I have a 3G iPhone. After 3 hrs twe...   \n",
       "1  @jessedee Know about @fludapp ? Awesome iPad/i...   \n",
       "2  @swonderlin Can not wait for #iPad 2 also. The...   \n",
       "3  @sxsw I hope this year's festival isn't as cra...   \n",
       "4  @sxtxstate great stuff on Fri #SXSW: Marissa M...   \n",
       "5  @teachntech00 New iPad Apps For #SpeechTherapy...   \n",
       "6  #SXSW is just starting, #CTIA is around the co...   \n",
       "7  Beautifully smart and simple idea RT @madebyma...   \n",
       "8  Counting down the days to #sxsw plus strong Ca...   \n",
       "9  Excited to meet the @samsungmobileus at #sxsw ...   \n",
       "\n",
       "  emotion_in_tweet_is_directed_at  \\\n",
       "0                          iPhone   \n",
       "1              iPad or iPhone App   \n",
       "2                            iPad   \n",
       "3              iPad or iPhone App   \n",
       "4                          Google   \n",
       "5                             NaN   \n",
       "6                         Android   \n",
       "7              iPad or iPhone App   \n",
       "8                           Apple   \n",
       "9                         Android   \n",
       "\n",
       "  is_there_an_emotion_directed_at_a_brand_or_product  \n",
       "0                                   Negative emotion  \n",
       "1                                   Positive emotion  \n",
       "2                                   Positive emotion  \n",
       "3                                   Negative emotion  \n",
       "4                                   Positive emotion  \n",
       "5                 No emotion toward brand or product  \n",
       "6                                   Positive emotion  \n",
       "7                                   Positive emotion  \n",
       "8                                   Positive emotion  \n",
       "9                                   Positive emotion  "
      ]
     },
     "execution_count": 2,
     "metadata": {},
     "output_type": "execute_result"
    }
   ],
   "source": [
    "# Initial loading and EDA of data\n",
    "df = pd.read_csv('data/judge-1377884607_tweet_product_company.csv', encoding='latin-1')\n",
    "df.drop(index=6, inplace=True)\n",
    "df.drop_duplicates(inplace=True)\n",
    "df = df.reset_index(drop=True)\n",
    "df.head(10)"
   ]
  },
  {
   "cell_type": "markdown",
   "metadata": {},
   "source": [
    "We can see that the insial data set has been put into 3 different columns:\n",
    "- The text contained in the tweet\n",
    "- The product refered to in the tweet\n",
    "- The emotion expressed in the tweet"
   ]
  },
  {
   "cell_type": "code",
   "execution_count": 3,
   "metadata": {},
   "outputs": [
    {
     "name": "stdout",
     "output_type": "stream",
     "text": [
      "<class 'pandas.core.frame.DataFrame'>\n",
      "RangeIndex: 9070 entries, 0 to 9069\n",
      "Data columns (total 3 columns):\n",
      " #   Column                                              Non-Null Count  Dtype \n",
      "---  ------                                              --------------  ----- \n",
      " 0   tweet_text                                          9070 non-null   object\n",
      " 1   emotion_in_tweet_is_directed_at                     3282 non-null   object\n",
      " 2   is_there_an_emotion_directed_at_a_brand_or_product  9070 non-null   object\n",
      "dtypes: object(3)\n",
      "memory usage: 212.7+ KB\n"
     ]
    }
   ],
   "source": [
    "df.info()"
   ]
  },
  {
   "cell_type": "markdown",
   "metadata": {},
   "source": [
    "However, we can already see that these columns will require a lot of cleaning. Almost all entries in the `tweet_text`  column contain special characters and only 3282 entries have a non-null value in the `emotion_in_tweet_is_directed_at` column. Also, it would be extremely difficult and computationally expensive to correctly identify each product mentioned in tweet due to the sheer number of targets."
   ]
  },
  {
   "cell_type": "markdown",
   "metadata": {},
   "source": [
    "---\n",
    "# 3. Data Preprocessing and EDA\n",
    "---\n",
    "We decided the best way to deal with the number of products was to bin them into two caterogies (Apple and Google) based on the product listed. We created the fuction below that performed binning on the inital data, renamed the columns, categorized our target emotion data as numeric values where \"Positive emotion\" = 0, \"Negative emotion\" = 1, \"No emotion toward brand or product\" = 2, and \"I can't tell\" = 3. The fuction then drops this final \"I can't tell\" category, as it adds no value to our data analysis."
   ]
  },
  {
   "cell_type": "code",
   "execution_count": 4,
   "metadata": {},
   "outputs": [],
   "source": [
    "def df_cleaner(df):\n",
    "    # Creating two lists to bin the brand/product column\n",
    "    apple_list = ['iPad', 'Apple', 'iPad or iPhone App', \n",
    "                  'Other Apple product or service', 'iPhone']\n",
    "    google_list = ['Google', 'Other Google product or service', 'Android App', 'Android']\n",
    "    \n",
    "    # Binning list comprehension for Apple, Google\n",
    "    df['emotion_in_tweet_is_directed_at'] = ['Apple' if val in apple_list\n",
    "                                              else val for val in df['emotion_in_tweet_is_directed_at']]\n",
    "\n",
    "    df['emotion_in_tweet_is_directed_at'] = ['Google' if val in google_list\n",
    "                                              else val for val in df['emotion_in_tweet_is_directed_at']]\n",
    "    \n",
    "    df['emotion_in_tweet_is_directed_at'] = [val if val == 'Apple' or val == 'Google'\n",
    "                                          else 'Google' if any(ele.casefold() in df['tweet_text'][ind].casefold() for ele in google_list)\n",
    "                                          else 'Apple' if any(ele.casefold() in df['tweet_text'][ind].casefold() for ele in apple_list)\n",
    "                                          else val\n",
    "                                          for ind, val in df['emotion_in_tweet_is_directed_at'].iteritems()]\n",
    "    \n",
    "    # Renaming columns to simplify\n",
    "    df2 = df.dropna(axis = 0)\n",
    "    df2 = df2.rename(columns={\"emotion_in_tweet_is_directed_at\": \"product\",\\\n",
    "                       \"is_there_an_emotion_directed_at_a_brand_or_product\":\"emotion\"})\n",
    "    \n",
    "    # Categorizing our target variables\n",
    "    df2_label = pd.DataFrame(df2['emotion'].copy())\n",
    "    emotion = df2_label.replace({\"emotion\": {\"Negative emotion\" : 1, \n",
    "                                    \"Positive emotion\" : 0, \n",
    "                                    \"No emotion toward brand or product\" : 2,\n",
    "                                    \"I can't tell\" : 3}})\n",
    "    \n",
    "    # Removing the \"I can't tell\" targets as it is not needed for our analysis\n",
    "    df2['emotion'] = emotion\n",
    "    df2['emotion'] = df2['emotion'].astype('int')\n",
    "    df2 = df2[df2['emotion'] != 3]\n",
    "    return df2"
   ]
  },
  {
   "cell_type": "markdown",
   "metadata": {},
   "source": [
    "We then created a score printer function for our upcoming modeling iterations."
   ]
  },
  {
   "cell_type": "code",
   "execution_count": 5,
   "metadata": {},
   "outputs": [],
   "source": [
    "def score_matrix_printer(model, X_train, y_train, X_test, y_test):\n",
    "    train_pred = model.predict(X_train)\n",
    "    test_pred = model.predict(X_test)\n",
    "    \n",
    "    # Need to explicitly declare the average for Multiclass\n",
    "    avg = 'macro'\n",
    "    \n",
    "    # Cleaning up scores to be more visually appealing\n",
    "    ascore_train = round((accuracy_score(y_train, train_pred) * 100), 2)\n",
    "    pscore_train = round((precision_score(y_train, train_pred, average=avg) * 100), 2)\n",
    "    rscore_train = round((recall_score(y_train, train_pred, average=avg) * 100), 2)\n",
    "    \n",
    "    ascore_test = round((accuracy_score(y_test, test_pred) * 100), 2)\n",
    "    pscore_test = round((precision_score(y_test, test_pred, average=avg) * 100), 2)\n",
    "    rscore_test = round((recall_score(y_test, test_pred, average=avg) * 100), 2)\n",
    "    \n",
    "    conf_mat = plot_confusion_matrix(model, X_test, y_test)\n",
    "    \n",
    "    print(f\"\"\"\n",
    "    Train Accuracy: {ascore_train}%\n",
    "    Train Precision: {pscore_train}%\n",
    "    Train Recall: {rscore_train}%\n",
    "    ------------------------------\n",
    "    Test Accuracy: {ascore_test}%\n",
    "    Test Precision: {pscore_test}%\n",
    "    Test Recall: {rscore_test}%\n",
    "    \"\"\")"
   ]
  },
  {
   "cell_type": "markdown",
   "metadata": {},
   "source": [
    "Once we were happy with our data cleaning fuction, we needed to preprocess all text so that natural language processing could be properly be performed. The fuction below takes entered texts, tokenizes each word using a Regex tokenizer, stems words with a more agressive Snowball Stemmer, while simultaneously removing any stopwords, before finally returning the text ready to be used for natural language processing."
   ]
  },
  {
   "cell_type": "code",
   "execution_count": 6,
   "metadata": {},
   "outputs": [],
   "source": [
    "def preprocess_text(text):\n",
    "    additional  = ['rt','rts','retweet']\n",
    "    pattern = '\\s+'\n",
    "    \n",
    "    sw = set().union(stopwords.words('english'), additional)\n",
    "    tokenizer = RegexpTokenizer(pattern, gaps = True)\n",
    "    stemmer = SnowballStemmer(language = 'english')\n",
    "    \n",
    "    token = tokenizer.tokenize(text)\n",
    "    \n",
    "    final = [stemmer.stem(word) for word in token if word not in sw]\n",
    "    \n",
    "    return \" \".join(final)"
   ]
  },
  {
   "cell_type": "markdown",
   "metadata": {},
   "source": [
    "We created one final custom function that will show out cross validation scores for our final ensemble methods in terms of positve, negative, and neutral scores."
   ]
  },
  {
   "cell_type": "code",
   "execution_count": 7,
   "metadata": {},
   "outputs": [],
   "source": [
    "def ensemble_result_printer(model, X_train, y_train, X_test, y_test):\n",
    "    \n",
    "    scores = cross_val_score(estimator = model, X = X_train, y = y_train, cv = 5)\n",
    "    unique, counts = np.unique(model.predict(X_test), return_counts=True)\n",
    "    result = np.column_stack((unique, counts))\n",
    "    \n",
    "    # Cleaning up scores to be more visually appealing\n",
    "    Pos = \"{:.2f}\".format((result[0][1] / sum(counts)) * 100)\n",
    "    Neg = \"{:.2f}\".format((result[1][1] / sum(counts)) * 100)\n",
    "    Neut = \"{:.2f}\".format((result[2][1] / sum(counts)) * 100)\n",
    "\n",
    "    print(f\"\"\"\n",
    "Ensemble CV Score: {np.median(scores)}\n",
    "Final Test Accuracy: {accuracy_score(y_test, model.predict(X_test))}\n",
    "Final Test Precision: {precision_score(y_test, model.predict(X_test), average='macro')}\n",
    "Final Test Recall: {recall_score(y_test, model.predict(X_test), average='macro')}\n",
    "----------------------------------------------------\n",
    "{result}\n",
    "Positive : {Pos}%\n",
    "Negative : {Neg}%\n",
    "Neutral : {Neut}%\n",
    "\"\"\")\n",
    "    plot_confusion_matrix(model, X_test, y_test);"
   ]
  },
  {
   "cell_type": "markdown",
   "metadata": {},
   "source": [
    "Next, we used the `df_cleaner` and `preprocess_text` fucntions we created above to prepare our data set for  NLP and modeling."
   ]
  },
  {
   "cell_type": "code",
   "execution_count": 8,
   "metadata": {},
   "outputs": [],
   "source": [
    "df2 = df_cleaner(df)"
   ]
  },
  {
   "cell_type": "code",
   "execution_count": 9,
   "metadata": {},
   "outputs": [
    {
     "data": {
      "text/html": [
       "<div>\n",
       "<style scoped>\n",
       "    .dataframe tbody tr th:only-of-type {\n",
       "        vertical-align: middle;\n",
       "    }\n",
       "\n",
       "    .dataframe tbody tr th {\n",
       "        vertical-align: top;\n",
       "    }\n",
       "\n",
       "    .dataframe thead th {\n",
       "        text-align: right;\n",
       "    }\n",
       "</style>\n",
       "<table border=\"1\" class=\"dataframe\">\n",
       "  <thead>\n",
       "    <tr style=\"text-align: right;\">\n",
       "      <th></th>\n",
       "      <th>tweet_text</th>\n",
       "      <th>product</th>\n",
       "      <th>emotion</th>\n",
       "    </tr>\n",
       "  </thead>\n",
       "  <tbody>\n",
       "    <tr>\n",
       "      <th>0</th>\n",
       "      <td>3g iphon 3 hrs tweet rise austin dead need upg...</td>\n",
       "      <td>Apple</td>\n",
       "      <td>1</td>\n",
       "    </tr>\n",
       "    <tr>\n",
       "      <th>1</th>\n",
       "      <td>know awesom ipad iphon app like appreci design...</td>\n",
       "      <td>Apple</td>\n",
       "      <td>0</td>\n",
       "    </tr>\n",
       "    <tr>\n",
       "      <th>2</th>\n",
       "      <td>wait ipad 2 also sale sxsw</td>\n",
       "      <td>Apple</td>\n",
       "      <td>0</td>\n",
       "    </tr>\n",
       "    <tr>\n",
       "      <th>3</th>\n",
       "      <td>hope year festiv crashi year iphon app sxsw</td>\n",
       "      <td>Apple</td>\n",
       "      <td>1</td>\n",
       "    </tr>\n",
       "    <tr>\n",
       "      <th>4</th>\n",
       "      <td>great stuff fri sxsw marissa mayer googl tim r...</td>\n",
       "      <td>Google</td>\n",
       "      <td>0</td>\n",
       "    </tr>\n",
       "    <tr>\n",
       "      <th>...</th>\n",
       "      <td>...</td>\n",
       "      <td>...</td>\n",
       "      <td>...</td>\n",
       "    </tr>\n",
       "    <tr>\n",
       "      <th>9065</th>\n",
       "      <td>ipad everywher sxsw link</td>\n",
       "      <td>Apple</td>\n",
       "      <td>0</td>\n",
       "    </tr>\n",
       "    <tr>\n",
       "      <th>9066</th>\n",
       "      <td>wave buzz interrupt regular schedul sxsw geek ...</td>\n",
       "      <td>Google</td>\n",
       "      <td>2</td>\n",
       "    </tr>\n",
       "    <tr>\n",
       "      <th>9067</th>\n",
       "      <td>googl zeiger physician never report potenti ae...</td>\n",
       "      <td>Google</td>\n",
       "      <td>2</td>\n",
       "    </tr>\n",
       "    <tr>\n",
       "      <th>9068</th>\n",
       "      <td>verizon iphon custom complain time fell back h...</td>\n",
       "      <td>Apple</td>\n",
       "      <td>2</td>\n",
       "    </tr>\n",
       "    <tr>\n",
       "      <th>9069</th>\n",
       "      <td>googl test check offer sxsw link</td>\n",
       "      <td>Google</td>\n",
       "      <td>2</td>\n",
       "    </tr>\n",
       "  </tbody>\n",
       "</table>\n",
       "<p>8161 rows × 3 columns</p>\n",
       "</div>"
      ],
      "text/plain": [
       "                                             tweet_text product  emotion\n",
       "0     3g iphon 3 hrs tweet rise austin dead need upg...   Apple        1\n",
       "1     know awesom ipad iphon app like appreci design...   Apple        0\n",
       "2                            wait ipad 2 also sale sxsw   Apple        0\n",
       "3           hope year festiv crashi year iphon app sxsw   Apple        1\n",
       "4     great stuff fri sxsw marissa mayer googl tim r...  Google        0\n",
       "...                                                 ...     ...      ...\n",
       "9065                           ipad everywher sxsw link   Apple        0\n",
       "9066  wave buzz interrupt regular schedul sxsw geek ...  Google        2\n",
       "9067  googl zeiger physician never report potenti ae...  Google        2\n",
       "9068  verizon iphon custom complain time fell back h...   Apple        2\n",
       "9069                   googl test check offer sxsw link  Google        2\n",
       "\n",
       "[8161 rows x 3 columns]"
      ]
     },
     "execution_count": 9,
     "metadata": {},
     "output_type": "execute_result"
    }
   ],
   "source": [
    "#Removing RT, Punctuation etc\n",
    "remove_rt = lambda x: re.sub('RT @\\w+: ',\" \",x)\n",
    "rt = lambda x: re.sub(\"(@[A-Za-z0-9]+)|([^0-9A-Za-z \\t])|(\\w+:\\/\\/\\S+)\",\" \",x)\n",
    "wspc = lambda x: \" \".join(x.split())\n",
    "\n",
    "df2['tweet_text'] = df2.tweet_text.map(remove_rt).map(rt)\n",
    "df2['tweet_text'] = df2.tweet_text.str.lower()\n",
    "df2['tweet_text'] = df2.tweet_text.map(wspc)\n",
    "df2['tweet_text'] = df2[\"tweet_text\"].map(lambda x : preprocess_text(x))\n",
    "df2"
   ]
  },
  {
   "cell_type": "code",
   "execution_count": 10,
   "metadata": {},
   "outputs": [],
   "source": [
    "X = df2['tweet_text']\n",
    "y = df2['emotion']"
   ]
  },
  {
   "cell_type": "code",
   "execution_count": 11,
   "metadata": {},
   "outputs": [],
   "source": [
    "X_train, X_test, y_train, y_test = train_test_split(X, y, random_state=42)"
   ]
  },
  {
   "cell_type": "code",
   "execution_count": 12,
   "metadata": {},
   "outputs": [
    {
     "data": {
      "text/html": [
       "<div>\n",
       "<style scoped>\n",
       "    .dataframe tbody tr th:only-of-type {\n",
       "        vertical-align: middle;\n",
       "    }\n",
       "\n",
       "    .dataframe tbody tr th {\n",
       "        vertical-align: top;\n",
       "    }\n",
       "\n",
       "    .dataframe thead th {\n",
       "        text-align: right;\n",
       "    }\n",
       "</style>\n",
       "<table border=\"1\" class=\"dataframe\">\n",
       "  <thead>\n",
       "    <tr style=\"text-align: right;\">\n",
       "      <th></th>\n",
       "      <th>00</th>\n",
       "      <th>000</th>\n",
       "      <th>00am</th>\n",
       "      <th>00pm</th>\n",
       "      <th>01am</th>\n",
       "      <th>02</th>\n",
       "      <th>03</th>\n",
       "      <th>08</th>\n",
       "      <th>10</th>\n",
       "      <th>100</th>\n",
       "      <th>...</th>\n",
       "      <th>zip</th>\n",
       "      <th>zite</th>\n",
       "      <th>zms</th>\n",
       "      <th>zombi</th>\n",
       "      <th>zomg</th>\n",
       "      <th>zone</th>\n",
       "      <th>zoom</th>\n",
       "      <th>zuckerberg</th>\n",
       "      <th>zynga</th>\n",
       "      <th>zzzs</th>\n",
       "    </tr>\n",
       "  </thead>\n",
       "  <tbody>\n",
       "    <tr>\n",
       "      <th>0</th>\n",
       "      <td>0</td>\n",
       "      <td>0</td>\n",
       "      <td>0</td>\n",
       "      <td>0</td>\n",
       "      <td>0</td>\n",
       "      <td>0</td>\n",
       "      <td>0</td>\n",
       "      <td>0</td>\n",
       "      <td>0</td>\n",
       "      <td>0</td>\n",
       "      <td>...</td>\n",
       "      <td>0</td>\n",
       "      <td>0</td>\n",
       "      <td>0</td>\n",
       "      <td>0</td>\n",
       "      <td>0</td>\n",
       "      <td>0</td>\n",
       "      <td>0</td>\n",
       "      <td>0</td>\n",
       "      <td>0</td>\n",
       "      <td>0</td>\n",
       "    </tr>\n",
       "    <tr>\n",
       "      <th>1</th>\n",
       "      <td>0</td>\n",
       "      <td>0</td>\n",
       "      <td>0</td>\n",
       "      <td>0</td>\n",
       "      <td>0</td>\n",
       "      <td>0</td>\n",
       "      <td>0</td>\n",
       "      <td>0</td>\n",
       "      <td>0</td>\n",
       "      <td>0</td>\n",
       "      <td>...</td>\n",
       "      <td>0</td>\n",
       "      <td>0</td>\n",
       "      <td>0</td>\n",
       "      <td>0</td>\n",
       "      <td>0</td>\n",
       "      <td>0</td>\n",
       "      <td>0</td>\n",
       "      <td>0</td>\n",
       "      <td>0</td>\n",
       "      <td>0</td>\n",
       "    </tr>\n",
       "    <tr>\n",
       "      <th>2</th>\n",
       "      <td>0</td>\n",
       "      <td>0</td>\n",
       "      <td>0</td>\n",
       "      <td>0</td>\n",
       "      <td>0</td>\n",
       "      <td>0</td>\n",
       "      <td>0</td>\n",
       "      <td>0</td>\n",
       "      <td>0</td>\n",
       "      <td>0</td>\n",
       "      <td>...</td>\n",
       "      <td>0</td>\n",
       "      <td>0</td>\n",
       "      <td>0</td>\n",
       "      <td>0</td>\n",
       "      <td>0</td>\n",
       "      <td>0</td>\n",
       "      <td>0</td>\n",
       "      <td>0</td>\n",
       "      <td>0</td>\n",
       "      <td>0</td>\n",
       "    </tr>\n",
       "    <tr>\n",
       "      <th>3</th>\n",
       "      <td>0</td>\n",
       "      <td>0</td>\n",
       "      <td>0</td>\n",
       "      <td>0</td>\n",
       "      <td>0</td>\n",
       "      <td>0</td>\n",
       "      <td>0</td>\n",
       "      <td>0</td>\n",
       "      <td>0</td>\n",
       "      <td>0</td>\n",
       "      <td>...</td>\n",
       "      <td>0</td>\n",
       "      <td>0</td>\n",
       "      <td>0</td>\n",
       "      <td>0</td>\n",
       "      <td>0</td>\n",
       "      <td>0</td>\n",
       "      <td>0</td>\n",
       "      <td>0</td>\n",
       "      <td>0</td>\n",
       "      <td>0</td>\n",
       "    </tr>\n",
       "    <tr>\n",
       "      <th>4</th>\n",
       "      <td>0</td>\n",
       "      <td>0</td>\n",
       "      <td>0</td>\n",
       "      <td>0</td>\n",
       "      <td>0</td>\n",
       "      <td>0</td>\n",
       "      <td>0</td>\n",
       "      <td>0</td>\n",
       "      <td>0</td>\n",
       "      <td>0</td>\n",
       "      <td>...</td>\n",
       "      <td>0</td>\n",
       "      <td>0</td>\n",
       "      <td>0</td>\n",
       "      <td>0</td>\n",
       "      <td>0</td>\n",
       "      <td>0</td>\n",
       "      <td>0</td>\n",
       "      <td>0</td>\n",
       "      <td>0</td>\n",
       "      <td>0</td>\n",
       "    </tr>\n",
       "    <tr>\n",
       "      <th>...</th>\n",
       "      <td>...</td>\n",
       "      <td>...</td>\n",
       "      <td>...</td>\n",
       "      <td>...</td>\n",
       "      <td>...</td>\n",
       "      <td>...</td>\n",
       "      <td>...</td>\n",
       "      <td>...</td>\n",
       "      <td>...</td>\n",
       "      <td>...</td>\n",
       "      <td>...</td>\n",
       "      <td>...</td>\n",
       "      <td>...</td>\n",
       "      <td>...</td>\n",
       "      <td>...</td>\n",
       "      <td>...</td>\n",
       "      <td>...</td>\n",
       "      <td>...</td>\n",
       "      <td>...</td>\n",
       "      <td>...</td>\n",
       "      <td>...</td>\n",
       "    </tr>\n",
       "    <tr>\n",
       "      <th>6115</th>\n",
       "      <td>0</td>\n",
       "      <td>0</td>\n",
       "      <td>0</td>\n",
       "      <td>0</td>\n",
       "      <td>0</td>\n",
       "      <td>0</td>\n",
       "      <td>0</td>\n",
       "      <td>0</td>\n",
       "      <td>0</td>\n",
       "      <td>0</td>\n",
       "      <td>...</td>\n",
       "      <td>0</td>\n",
       "      <td>0</td>\n",
       "      <td>0</td>\n",
       "      <td>0</td>\n",
       "      <td>0</td>\n",
       "      <td>0</td>\n",
       "      <td>0</td>\n",
       "      <td>0</td>\n",
       "      <td>0</td>\n",
       "      <td>0</td>\n",
       "    </tr>\n",
       "    <tr>\n",
       "      <th>6116</th>\n",
       "      <td>0</td>\n",
       "      <td>0</td>\n",
       "      <td>0</td>\n",
       "      <td>0</td>\n",
       "      <td>0</td>\n",
       "      <td>0</td>\n",
       "      <td>0</td>\n",
       "      <td>0</td>\n",
       "      <td>0</td>\n",
       "      <td>0</td>\n",
       "      <td>...</td>\n",
       "      <td>0</td>\n",
       "      <td>0</td>\n",
       "      <td>0</td>\n",
       "      <td>0</td>\n",
       "      <td>0</td>\n",
       "      <td>0</td>\n",
       "      <td>0</td>\n",
       "      <td>0</td>\n",
       "      <td>0</td>\n",
       "      <td>0</td>\n",
       "    </tr>\n",
       "    <tr>\n",
       "      <th>6117</th>\n",
       "      <td>0</td>\n",
       "      <td>0</td>\n",
       "      <td>0</td>\n",
       "      <td>0</td>\n",
       "      <td>0</td>\n",
       "      <td>0</td>\n",
       "      <td>0</td>\n",
       "      <td>0</td>\n",
       "      <td>0</td>\n",
       "      <td>0</td>\n",
       "      <td>...</td>\n",
       "      <td>0</td>\n",
       "      <td>0</td>\n",
       "      <td>0</td>\n",
       "      <td>0</td>\n",
       "      <td>0</td>\n",
       "      <td>0</td>\n",
       "      <td>0</td>\n",
       "      <td>0</td>\n",
       "      <td>0</td>\n",
       "      <td>0</td>\n",
       "    </tr>\n",
       "    <tr>\n",
       "      <th>6118</th>\n",
       "      <td>0</td>\n",
       "      <td>0</td>\n",
       "      <td>0</td>\n",
       "      <td>0</td>\n",
       "      <td>0</td>\n",
       "      <td>0</td>\n",
       "      <td>0</td>\n",
       "      <td>0</td>\n",
       "      <td>0</td>\n",
       "      <td>0</td>\n",
       "      <td>...</td>\n",
       "      <td>0</td>\n",
       "      <td>0</td>\n",
       "      <td>0</td>\n",
       "      <td>0</td>\n",
       "      <td>0</td>\n",
       "      <td>0</td>\n",
       "      <td>0</td>\n",
       "      <td>0</td>\n",
       "      <td>0</td>\n",
       "      <td>0</td>\n",
       "    </tr>\n",
       "    <tr>\n",
       "      <th>6119</th>\n",
       "      <td>0</td>\n",
       "      <td>0</td>\n",
       "      <td>0</td>\n",
       "      <td>0</td>\n",
       "      <td>0</td>\n",
       "      <td>0</td>\n",
       "      <td>0</td>\n",
       "      <td>0</td>\n",
       "      <td>0</td>\n",
       "      <td>0</td>\n",
       "      <td>...</td>\n",
       "      <td>0</td>\n",
       "      <td>0</td>\n",
       "      <td>0</td>\n",
       "      <td>0</td>\n",
       "      <td>0</td>\n",
       "      <td>0</td>\n",
       "      <td>0</td>\n",
       "      <td>0</td>\n",
       "      <td>0</td>\n",
       "      <td>0</td>\n",
       "    </tr>\n",
       "  </tbody>\n",
       "</table>\n",
       "<p>6120 rows × 6099 columns</p>\n",
       "</div>"
      ],
      "text/plain": [
       "      00  000  00am  00pm  01am  02  03  08  10  100  ...  zip  zite  zms  \\\n",
       "0      0    0     0     0     0   0   0   0   0    0  ...    0     0    0   \n",
       "1      0    0     0     0     0   0   0   0   0    0  ...    0     0    0   \n",
       "2      0    0     0     0     0   0   0   0   0    0  ...    0     0    0   \n",
       "3      0    0     0     0     0   0   0   0   0    0  ...    0     0    0   \n",
       "4      0    0     0     0     0   0   0   0   0    0  ...    0     0    0   \n",
       "...   ..  ...   ...   ...   ...  ..  ..  ..  ..  ...  ...  ...   ...  ...   \n",
       "6115   0    0     0     0     0   0   0   0   0    0  ...    0     0    0   \n",
       "6116   0    0     0     0     0   0   0   0   0    0  ...    0     0    0   \n",
       "6117   0    0     0     0     0   0   0   0   0    0  ...    0     0    0   \n",
       "6118   0    0     0     0     0   0   0   0   0    0  ...    0     0    0   \n",
       "6119   0    0     0     0     0   0   0   0   0    0  ...    0     0    0   \n",
       "\n",
       "      zombi  zomg  zone  zoom  zuckerberg  zynga  zzzs  \n",
       "0         0     0     0     0           0      0     0  \n",
       "1         0     0     0     0           0      0     0  \n",
       "2         0     0     0     0           0      0     0  \n",
       "3         0     0     0     0           0      0     0  \n",
       "4         0     0     0     0           0      0     0  \n",
       "...     ...   ...   ...   ...         ...    ...   ...  \n",
       "6115      0     0     0     0           0      0     0  \n",
       "6116      0     0     0     0           0      0     0  \n",
       "6117      0     0     0     0           0      0     0  \n",
       "6118      0     0     0     0           0      0     0  \n",
       "6119      0     0     0     0           0      0     0  \n",
       "\n",
       "[6120 rows x 6099 columns]"
      ]
     },
     "execution_count": 12,
     "metadata": {},
     "output_type": "execute_result"
    }
   ],
   "source": [
    "cv = CountVectorizer()\n",
    "# Since we're transforming training set, we have to transform test set as well\n",
    "X_train_vec = cv.fit_transform(X_train)\n",
    "X_test_vec = cv.transform(X_test)\n",
    "\n",
    "\n",
    "X_train_vec = pd.DataFrame.sparse.from_spmatrix(X_train_vec)\n",
    "X_train_vec.columns = sorted(cv.vocabulary_)\n",
    "X_test_vec = pd.DataFrame.sparse.from_spmatrix(X_test_vec)\n",
    "X_test_vec.columns = sorted(cv.vocabulary_)\n",
    "X_test_vec.set_index(y_test.index, inplace=True)\n",
    "X_train_vec"
   ]
  },
  {
   "cell_type": "code",
   "execution_count": 13,
   "metadata": {},
   "outputs": [
    {
     "data": {
      "text/plain": [
       "sxsw     6500\n",
       "link     2697\n",
       "googl    1957\n",
       "ipad     1930\n",
       "appl     1742\n",
       "dtype: int64"
      ]
     },
     "execution_count": 13,
     "metadata": {},
     "output_type": "execute_result"
    }
   ],
   "source": [
    "X_train_vec.sum().sort_values(ascending=False).head()"
   ]
  },
  {
   "cell_type": "markdown",
   "metadata": {},
   "source": [
    "---\n",
    "# 4. Modeling\n",
    "---"
   ]
  },
  {
   "cell_type": "code",
   "execution_count": 14,
   "metadata": {},
   "outputs": [
    {
     "data": {
      "text/plain": [
       "MultinomialNB()"
      ]
     },
     "execution_count": 14,
     "metadata": {},
     "output_type": "execute_result"
    }
   ],
   "source": [
    "# Initialize baseline MultinomialBayes for NLP\n",
    "mnb = MultinomialNB()\n",
    "mnb.fit(X_train_vec, y_train)"
   ]
  },
  {
   "cell_type": "code",
   "execution_count": 15,
   "metadata": {},
   "outputs": [
    {
     "name": "stdout",
     "output_type": "stream",
     "text": [
      "Training Accuracy: 0.8\n",
      "Training Recall: 0.6883996700004489\n",
      "Test Accuracy: 0.6467417932386085\n",
      "Test Recall: 0.5023168509224286\n"
     ]
    },
    {
     "data": {
      "image/png": "[encoded data removed]",
      "text/plain": [
       "<Figure size 432x288 with 2 Axes>"
      ]
     },
     "metadata": {
      "needs_background": "light"
     },
     "output_type": "display_data"
    }
   ],
   "source": [
    "# Creating initial predictions\n",
    "y_preds = mnb.predict(X_train_vec)\n",
    "y_test_pred = mnb.predict(X_test_vec)\n",
    "\n",
    "print(\"Training Accuracy:\", accuracy_score(y_train, y_preds))\n",
    "print(\"Training Recall:\", recall_score(y_train, y_preds, average = 'macro'))\n",
    "print(\"Test Accuracy:\", accuracy_score(y_test, y_test_pred))\n",
    "print(\"Test Recall:\", recall_score(y_test, y_test_pred, average = 'macro'))\n",
    "\n",
    "cm = confusion_matrix(y_train, y_preds)\n",
    "cmdisplay = ConfusionMatrixDisplay(cm)\n",
    "cmdisplay.plot();"
   ]
  },
  {
   "cell_type": "code",
   "execution_count": 16,
   "metadata": {},
   "outputs": [
    {
     "name": "stdout",
     "output_type": "stream",
     "text": [
      "\n",
      "    Train Accuracy: 78.38%\n",
      "    Train Precision: 70.28%\n",
      "    Train Recall: 75.93%\n",
      "    ------------------------------\n",
      "    Test Accuracy: 62.91%\n",
      "    Test Precision: 54.16%\n",
      "    Test Recall: 56.6%\n",
      "    \n"
     ]
    },
    {
     "data": {
      "image/png": "[encoded data removed]",
      "text/plain": [
       "<Figure size 432x288 with 2 Axes>"
      ]
     },
     "metadata": {
      "needs_background": "light"
     },
     "output_type": "display_data"
    }
   ],
   "source": [
    "# Pipeline model for Multinomial Bayes + SMOTE\n",
    "mnb_cv = imbpipeline(steps=[\n",
    "    ('vectorizer', CountVectorizer()),\n",
    "    ('SMOTE', SMOTE(sampling_strategy = 'minority', random_state = 42)),\n",
    "    ('mnb', MultinomialNB())\n",
    "])\n",
    "\n",
    "mnb_cv.fit(X_train, y_train)\n",
    "score_matrix_printer(mnb_cv, X_train, y_train, X_test, y_test)"
   ]
  },
  {
   "cell_type": "code",
   "execution_count": 17,
   "metadata": {},
   "outputs": [
    {
     "name": "stdout",
     "output_type": "stream",
     "text": [
      "\n",
      "    Train Accuracy: 76.39%\n",
      "    Train Precision: 69.54%\n",
      "    Train Recall: 82.3%\n",
      "    ------------------------------\n",
      "    Test Accuracy: 59.82%\n",
      "    Test Precision: 54.02%\n",
      "    Test Recall: 62.14%\n",
      "    \n"
     ]
    },
    {
     "data": {
      "image/png": "[encoded data removed]",
      "text/plain": [
       "<Figure size 432x288 with 2 Axes>"
      ]
     },
     "metadata": {
      "needs_background": "light"
     },
     "output_type": "display_data"
    }
   ],
   "source": [
    "# Pipeline model to test if TfidfVectorizer is better than CountVectorizer\n",
    "mnb_tfidf = imbpipeline(steps=[\n",
    "    ('vectorizer', TfidfVectorizer(lowercase = False)),\n",
    "    ('SMOTE', SMOTE(random_state = 42)),\n",
    "    ('mnb', MultinomialNB())\n",
    "])\n",
    "\n",
    "mnb_tfidf.fit(X_train, y_train)\n",
    "score_matrix_printer(mnb_tfidf, X_train, y_train, X_test, y_test)"
   ]
  },
  {
   "cell_type": "code",
   "execution_count": 18,
   "metadata": {},
   "outputs": [
    {
     "name": "stdout",
     "output_type": "stream",
     "text": [
      "\n",
      "    Train Accuracy: 68.27%\n",
      "    Train Precision: 61.44%\n",
      "    Train Recall: 74.25%\n",
      "    ------------------------------\n",
      "    Test Accuracy: 57.52%\n",
      "    Test Precision: 51.46%\n",
      "    Test Recall: 58.64%\n",
      "    \n"
     ]
    },
    {
     "data": {
      "image/png": "[encoded data removed]",
      "text/plain": [
       "<Figure size 432x288 with 2 Axes>"
      ]
     },
     "metadata": {
      "needs_background": "light"
     },
     "output_type": "display_data"
    }
   ],
   "source": [
    "# Pipeline model to test if TfidfVectorizer is better than CountVectorizer\n",
    "mnb_tfidf_mf = imbpipeline(steps=[\n",
    "    ('vectorizer', TfidfVectorizer(lowercase = False, max_features=1500)),\n",
    "    ('SMOTE', SMOTE(random_state = 42)),\n",
    "    ('mnb', MultinomialNB())\n",
    "])\n",
    "\n",
    "mnb_tfidf_mf.fit(X_train, y_train)\n",
    "score_matrix_printer(mnb_tfidf_mf, X_train, y_train, X_test, y_test)"
   ]
  },
  {
   "cell_type": "code",
   "execution_count": 19,
   "metadata": {},
   "outputs": [
    {
     "name": "stdout",
     "output_type": "stream",
     "text": [
      "\n",
      "    Train Accuracy: 95.36%\n",
      "    Train Precision: 94.7%\n",
      "    Train Recall: 95.38%\n",
      "    ------------------------------\n",
      "    Test Accuracy: 58.35%\n",
      "    Test Precision: 50.15%\n",
      "    Test Recall: 53.31%\n",
      "    \n"
     ]
    },
    {
     "data": {
      "image/png": "[encoded data removed]",
      "text/plain": [
       "<Figure size 432x288 with 2 Axes>"
      ]
     },
     "metadata": {
      "needs_background": "light"
     },
     "output_type": "display_data"
    }
   ],
   "source": [
    "rf_optimal_cv = imbpipeline(steps=[\n",
    "    ('vectorizer', CountVectorizer()),\n",
    "    ('smote', SMOTE(random_state = 42)),\n",
    "    ('rf', RandomForestClassifier(random_state = 42))\n",
    "\n",
    "])\n",
    "\n",
    "rf_optimal_cv.fit(X_train, y_train)\n",
    "score_matrix_printer(rf_optimal_cv, X_train, y_train, X_test, y_test)"
   ]
  },
  {
   "cell_type": "code",
   "execution_count": 20,
   "metadata": {},
   "outputs": [
    {
     "name": "stdout",
     "output_type": "stream",
     "text": [
      "\n",
      "    Train Accuracy: 95.49%\n",
      "    Train Precision: 95.39%\n",
      "    Train Recall: 95.49%\n",
      "    ------------------------------\n",
      "    Test Accuracy: 64.53%\n",
      "    Test Precision: 62.81%\n",
      "    Test Recall: 52.37%\n",
      "    \n"
     ]
    },
    {
     "data": {
      "image/png": "[encoded data removed]",
      "text/plain": [
       "<Figure size 432x288 with 2 Axes>"
      ]
     },
     "metadata": {
      "needs_background": "light"
     },
     "output_type": "display_data"
    }
   ],
   "source": [
    "rf_model_max = imbpipeline(steps=[\n",
    "    ('vectorizer', TfidfVectorizer(lowercase = False, max_features=1500)),\n",
    "    ('smote', SMOTE(random_state = 42)),\n",
    "    ('rf', RandomForestClassifier(random_state = 42))\n",
    "\n",
    "])\n",
    "\n",
    "rf_model_max.fit(X_train, y_train)\n",
    "score_matrix_printer(rf_model_max, X_train, y_train, X_test, y_test)"
   ]
  },
  {
   "cell_type": "code",
   "execution_count": 21,
   "metadata": {},
   "outputs": [],
   "source": [
    "# #Code block has been commented out as it takes 10+ minutes to run.\n",
    "\n",
    "# X_train_grid, X_test_grid, y_train_grid, y_test_grid = train_test_split(text_series, y, random_state=42)\n",
    "\n",
    "# rf_basic_cv = imbpipeline(steps=[\n",
    "#     ('preprocess', TfidfVectorizer(lowercase = False)),\n",
    "#     ('SMOTE', SMOTE(sampling_strategy = 'minority', random_state = 42)),\n",
    "#     ('rf', RandomForestClassifier(random_state=42))\n",
    "# ])\n",
    "\n",
    "\n",
    "# param_grid = {\n",
    "#     \"preprocess__max_features\":[500, 1000, 1500],\n",
    "#     \"rf__n_estimators\":[30, 100, 150, 200],\n",
    "#     \"rf__criterion\":['gini', 'entropy'], \n",
    "#     \"rf__max_depth\":[1, 10, 25, 50],\n",
    "#     \"rf__min_samples_split\":range(1, 10),\n",
    "#     \"rf__min_samples_leaf\":range(1, 10)\n",
    "# }            \n",
    "\n",
    "\n",
    "# grid = GridSearchCV(rf_basic_cv, param_grid, cv = 5, n_jobs = -1, verbose = 1)\n",
    "# grid.fit(X_train_grid, y_train_grid)   "
   ]
  },
  {
   "cell_type": "code",
   "execution_count": 22,
   "metadata": {},
   "outputs": [],
   "source": [
    "# print('Best score and parameter combination = ')\n",
    "\n",
    "# print(grid.best_score_)    \n",
    "# print(grid.best_params_)      "
   ]
  },
  {
   "cell_type": "code",
   "execution_count": 23,
   "metadata": {},
   "outputs": [
    {
     "name": "stdout",
     "output_type": "stream",
     "text": [
      "\n",
      "    Train Accuracy: 91.85%\n",
      "    Train Precision: 93.46%\n",
      "    Train Recall: 89.74%\n",
      "    ------------------------------\n",
      "    Test Accuracy: 63.99%\n",
      "    Test Precision: 59.41%\n",
      "    Test Recall: 51.6%\n",
      "    \n"
     ]
    },
    {
     "data": {
      "image/png": "[encoded data removed]",
      "text/plain": [
       "<Figure size 432x288 with 2 Axes>"
      ]
     },
     "metadata": {
      "needs_background": "light"
     },
     "output_type": "display_data"
    }
   ],
   "source": [
    "rf_optimal_cv = imbpipeline(steps=[\n",
    "    ('vectorizer', TfidfVectorizer(lowercase = False, max_features=1500)),\n",
    "    ('smote', SMOTE(random_state = 42)),\n",
    "    ('rf', RandomForestClassifier(criterion = 'gini', n_estimators = 150,  max_depth = 50, \n",
    "                                  min_samples_leaf = 1, min_samples_split = 5, random_state = 42))\n",
    "\n",
    "])\n",
    "\n",
    "rf_optimal_cv.fit(X_train, y_train)\n",
    "score_matrix_printer(rf_optimal_cv, X_train, y_train, X_test, y_test)"
   ]
  },
  {
   "cell_type": "code",
   "execution_count": 24,
   "metadata": {},
   "outputs": [
    {
     "name": "stdout",
     "output_type": "stream",
     "text": [
      "\n",
      "Ensemble CV Score: 0.6413398692810458\n",
      "Final Test Accuracy: 0.6398824105830475\n",
      "Final Test Precision: 0.5940866844976433\n",
      "Final Test Recall: 0.51597479463792\n",
      "----------------------------------------------------\n",
      "[[   0  650]\n",
      " [   1   77]\n",
      " [   2 1314]]\n",
      "Positive : 31.85%\n",
      "Negative : 3.77%\n",
      "Neutral : 64.38%\n",
      "\n"
     ]
    },
    {
     "data": {
      "image/png": "[encoded data removed]",
      "text/plain": [
       "<Figure size 432x288 with 2 Axes>"
      ]
     },
     "metadata": {
      "needs_background": "light"
     },
     "output_type": "display_data"
    }
   ],
   "source": [
    "avg = VotingClassifier(estimators=[ ('rf', rf_optimal_cv),\n",
    "                                    ('mb', mnb_tfidf_mf)],\n",
    "                                    weights = [0.75, 0.25])\n",
    "\n",
    "avg.fit(X_train, y_train)\n",
    "\n",
    "ensemble_result_printer(avg, X_train, y_train, X_test, y_test)"
   ]
  },
  {
   "cell_type": "code",
   "execution_count": 25,
   "metadata": {},
   "outputs": [],
   "source": [
    "apple = df2.loc[df2['product'] == 'Apple']\n",
    "google = df2.loc[df2['product'] == 'Google']\n",
    "\n",
    "a_X = apple['tweet_text']\n",
    "a_y = apple['emotion']\n",
    "\n",
    "g_X = google['tweet_text']\n",
    "g_y = google['emotion']"
   ]
  },
  {
   "cell_type": "code",
   "execution_count": 26,
   "metadata": {},
   "outputs": [],
   "source": [
    "a_X_train, a_X_test, a_y_train, a_y_test = train_test_split(a_X, a_y, random_state=42)\n",
    "\n",
    "g_X_train, g_X_test, g_y_train, g_y_test = train_test_split(g_X, g_y, random_state=42)"
   ]
  },
  {
   "cell_type": "code",
   "execution_count": 27,
   "metadata": {},
   "outputs": [
    {
     "name": "stdout",
     "output_type": "stream",
     "text": [
      "\n",
      "Ensemble CV Score: 0.6175349428208387\n",
      "Final Test Accuracy: 0.6295731707317073\n",
      "Final Test Precision: 0.5948644708046777\n",
      "Final Test Recall: 0.5356985016751061\n",
      "----------------------------------------------------\n",
      "[[  0 458]\n",
      " [  1  69]\n",
      " [  2 785]]\n",
      "Positive : 34.91%\n",
      "Negative : 5.26%\n",
      "Neutral : 59.83%\n",
      "\n"
     ]
    },
    {
     "data": {
      "image/png": "[encoded data removed]",
      "text/plain": [
       "<Figure size 432x288 with 2 Axes>"
      ]
     },
     "metadata": {
      "needs_background": "light"
     },
     "output_type": "display_data"
    }
   ],
   "source": [
    "avg = VotingClassifier(estimators=[ ('rf', rf_optimal_cv),\n",
    "                                    ('mb', mnb_tfidf_mf)],\n",
    "                                    weights = [0.75, 0.25])\n",
    "\n",
    "avg.fit(a_X_train, a_y_train)\n",
    "\n",
    "ensemble_result_printer(avg, a_X_train, a_y_train, a_X_test, a_y_test)"
   ]
  },
  {
   "cell_type": "code",
   "execution_count": 28,
   "metadata": {},
   "outputs": [
    {
     "name": "stdout",
     "output_type": "stream",
     "text": [
      "\n",
      "Ensemble CV Score: 0.7276887871853547\n",
      "Final Test Accuracy: 0.6899862825788752\n",
      "Final Test Precision: 0.602046783625731\n",
      "Final Test Recall: 0.4935871377944549\n",
      "----------------------------------------------------\n",
      "[[  0 140]\n",
      " [  1  19]\n",
      " [  2 570]]\n",
      "Positive : 19.20%\n",
      "Negative : 2.61%\n",
      "Neutral : 78.19%\n",
      "\n"
     ]
    },
    {
     "data": {
      "image/png": "[encoded data removed]",
      "text/plain": [
       "<Figure size 432x288 with 2 Axes>"
      ]
     },
     "metadata": {
      "needs_background": "light"
     },
     "output_type": "display_data"
    }
   ],
   "source": [
    "avg = VotingClassifier(estimators=[ ('rf', rf_optimal_cv),\n",
    "                                    ('mb', mnb_tfidf_mf)],\n",
    "                                    weights = [0.75, 0.25])\n",
    "\n",
    "avg.fit(g_X_train, g_y_train)\n",
    "\n",
    "ensemble_result_printer(avg, g_X_train, g_y_train, g_X_test, g_y_test)"
   ]
  },
  {
   "cell_type": "code",
   "execution_count": 29,
   "metadata": {},
   "outputs": [
    {
     "data": {
      "image/png": "[encoded data removed]",
      "text/plain": [
       "<Figure size 432x288 with 1 Axes>"
      ]
     },
     "metadata": {
      "needs_background": "light"
     },
     "output_type": "display_data"
    }
   ],
   "source": [
    "from wordcloud import WordCloud\n",
    "\n",
    "text = X.values \n",
    "\n",
    "wordcloud = WordCloud(background_color = 'white').generate(str(text))\n",
    "\n",
    "plt.imshow(wordcloud)\n",
    "plt.axis(\"off\")\n",
    "plt.show()"
   ]
  },
  {
   "cell_type": "code",
   "execution_count": 30,
   "metadata": {},
   "outputs": [],
   "source": [
    "# wordcloud.to_file(\"img/apple_google_wordcloud.png\")"
   ]
  },
  {
   "cell_type": "markdown",
   "metadata": {},
   "source": [
    "---\n",
    "# 5. Evaluation\n",
    "---"
   ]
  },
  {
   "cell_type": "markdown",
   "metadata": {},
   "source": []
  }
 ],
 "metadata": {
  "kernelspec": {
   "display_name": "Python (learn-env)",
   "language": "python",
   "name": "learn-env"
  },
  "language_info": {
   "codemirror_mode": {
    "name": "ipython",
    "version": 3
   },
   "file_extension": ".py",
   "mimetype": "text/x-python",
   "name": "python",
   "nbconvert_exporter": "python",
   "pygments_lexer": "ipython3",
   "version": "3.8.5"
  }
 },
 "nbformat": 4,
 "nbformat_minor": 4
}
